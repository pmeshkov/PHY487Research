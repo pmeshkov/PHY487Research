{
 "cells": [
  {
   "cell_type": "code",
   "execution_count": 1,
   "metadata": {},
   "outputs": [],
   "source": [
    "import numpy as np\n",
    "import math\n",
    "import scipy\n",
    "from sympy.physics.wigner import wigner_3j\n",
    "from sympy.physics.wigner import wigner_6j\n",
    "from sympy.physics.wigner import wigner_9j\n",
    "import pandas as pd\n",
    "import matplotlib.pyplot as plt"
   ]
  },
  {
   "cell_type": "code",
   "execution_count": 2,
   "metadata": {},
   "outputs": [],
   "source": [
    "def int_or_half_int(x):\n",
    "    return isinstance(x, int) or abs(round(2*x) - 2*x) == 0\n",
    "\n",
    "def add_ang_mom(L1, L2):\n",
    "    #\n",
    "    # given the values of two different angular momenta, returns an array \n",
    "    # of the possible values of their sum L1+L2 = l_tot\n",
    "    #\n",
    "    \n",
    "    if not int_or_half_int(L1) or not int_or_half_int(L2):\n",
    "        raise Exception(\"Angular momentum values L1, L2 must be non-negative integers or half integers.\", \"L1 =\", L1, \"L2 =\", L2)\n",
    "\n",
    "    l_tot_max = L1 + L2\n",
    "    if L1 == 0 or L2 == 0:\n",
    "        return [l_tot_max]\n",
    "\n",
    "    l_tot_min = abs(L1-L2)\n",
    "    \n",
    "    ct = int((l_tot_max - l_tot_min + 1)/ 1)\n",
    "    l_tot_range = [None] * ct\n",
    "\n",
    "    l_tot_cur = l_tot_min\n",
    "    for i in range(ct):\n",
    "        l_tot_range[i] = l_tot_cur\n",
    "        l_tot_cur += 1\n",
    "    \n",
    "    return l_tot_range\n",
    "\n",
    "def get_m_range(j):\n",
    "    #\n",
    "    # given some angular momentum, returns the m values associated with it\n",
    "    #\n",
    "\n",
    "    if not int_or_half_int(j) or j < 0:\n",
    "        raise Exception(\"Angular momentum value j must be a non-negative integer or half-integer.\")\n",
    "\n",
    "    if j == 0:\n",
    "        return [0]\n",
    "\n",
    "    ct = int(2*j +1)\n",
    "    m_range = [None] * ct\n",
    "\n",
    "    m_min = -j\n",
    "    m_cur = m_min\n",
    "    for i in range(ct):\n",
    "        m_range[i] = m_cur\n",
    "        m_cur += 1\n",
    "    \n",
    "    return m_range"
   ]
  },
  {
   "cell_type": "markdown",
   "metadata": {},
   "source": [
    "In the following cells, we will examine different quantum number sets, and will determine whether they yield the same about of total hamiltonian basis states. We will conduct these tests with parameters corresponding to NaCs, as shown below."
   ]
  },
  {
   "cell_type": "code",
   "execution_count": 3,
   "metadata": {},
   "outputs": [],
   "source": [
    "import scipy.constants\n",
    "from numpy import pi\n",
    "\n",
    "h = scipy.constants.h\n",
    "muN = scipy.constants.physical_constants['nuclear magneton'][0]\n",
    "bohr = scipy.constants.physical_constants['Bohr radius'][0]\n",
    "eps0 = scipy.constants.epsilon_0\n",
    "c = scipy.constants.c\n",
    "DebyeSI = 3.33564e-30\n",
    "\n",
    "Na23Cs133 = {\"I1\":1.5,\n",
    "            \"I2\":3.5,\n",
    "            \"d0\":4.69*DebyeSI,\n",
    "            \"Brot\":0.058*c*100*h,\n",
    "            \"Drot\":0*h,\n",
    "            \"Q1\":-0.097e6*h,\n",
    "            \"Q2\":0.150e6*h,\n",
    "            \"C1\":14.2*h,\n",
    "            \"C2\":854.5*h,\n",
    "            \"C3\":105.6*h,\n",
    "            \"C4\":3941.8*h,\n",
    "            \"MuN\":0*muN,\n",
    "            \"Mu1\":1.478*muN,\n",
    "            \"Mu2\":0.738*muN,\n",
    "            \"a0\":0*h, #Not reported\n",
    "            \"a2\":0*h, #Not reported\n",
    "            \"Beta\":0}"
   ]
  },
  {
   "cell_type": "code",
   "execution_count": 8,
   "metadata": {},
   "outputs": [],
   "source": [
    "N_max = 10\n",
    "s = 0\n",
    "i_1 = Na23Cs133[\"I1\"]\n",
    "i_2 = Na23Cs133[\"I2\"]"
   ]
  },
  {
   "cell_type": "markdown",
   "metadata": {},
   "source": [
    "First, we will examine the uncoupled basis $\\ket{N, m_N, S, m_s, I_1, m_1, I_2, m_2}$:"
   ]
  },
  {
   "cell_type": "code",
   "execution_count": 9,
   "metadata": {},
   "outputs": [
    {
     "name": "stdout",
     "output_type": "stream",
     "text": [
      "3200\n"
     ]
    }
   ],
   "source": [
    "n_states = 0\n",
    "for n in range(N_max):\n",
    "    for mn in get_m_range(n):\n",
    "        for ms in get_m_range(s):\n",
    "            for m1 in get_m_range(i_1):\n",
    "                for m2 in get_m_range(i_2):\n",
    "                    n_states += 1\n",
    "\n",
    "print(n_states)"
   ]
  },
  {
   "cell_type": "markdown",
   "metadata": {},
   "source": [
    "Next, we will examine the twice coupled basis with $J = N + S$,  $I = I_1 + I_2$, yielding $\\ket{N, S, J, m_J I_1, I_2, I, m_I}$:"
   ]
  },
  {
   "cell_type": "code",
   "execution_count": 10,
   "metadata": {},
   "outputs": [
    {
     "name": "stdout",
     "output_type": "stream",
     "text": [
      "3200\n"
     ]
    }
   ],
   "source": [
    "n_states = 0\n",
    "for n in range(N_max):\n",
    "     for j in add_ang_mom(n,s):\n",
    "          for mj in get_m_range(j):\n",
    "               for i in add_ang_mom(i_1, i_2):\n",
    "                    for m_i in get_m_range(i):\n",
    "                         n_states += 1\n",
    "\n",
    "print(n_states)"
   ]
  },
  {
   "cell_type": "markdown",
   "metadata": {},
   "source": [
    "Finally, we will examine the thrice coupled basis with $J = N + S$,  $I = I_1 + I_2$, $F = J + I$ yielding $\\ket{N, S, J, I_1, I_2, I, F, m_F}$:"
   ]
  },
  {
   "cell_type": "code",
   "execution_count": 11,
   "metadata": {},
   "outputs": [
    {
     "name": "stdout",
     "output_type": "stream",
     "text": [
      "3200\n"
     ]
    }
   ],
   "source": [
    "n_states = 0\n",
    "for n in range(N_max):\n",
    "    for j in add_ang_mom(n,s):\n",
    "            for i in add_ang_mom(i_1, i_2):\n",
    "                for f in add_ang_mom(j, i):\n",
    "                    for mf in get_m_range(f):\n",
    "                        n_states += 1\n",
    "                        \n",
    "print(n_states)"
   ]
  },
  {
   "cell_type": "code",
   "execution_count": null,
   "metadata": {},
   "outputs": [],
   "source": []
  }
 ],
 "metadata": {
  "kernelspec": {
   "display_name": "base",
   "language": "python",
   "name": "python3"
  },
  "language_info": {
   "codemirror_mode": {
    "name": "ipython",
    "version": 3
   },
   "file_extension": ".py",
   "mimetype": "text/x-python",
   "name": "python",
   "nbconvert_exporter": "python",
   "pygments_lexer": "ipython3",
   "version": "3.11.7"
  }
 },
 "nbformat": 4,
 "nbformat_minor": 2
}
