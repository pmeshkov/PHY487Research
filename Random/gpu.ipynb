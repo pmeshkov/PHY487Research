{
 "cells": [
  {
   "cell_type": "code",
   "execution_count": 1,
   "metadata": {},
   "outputs": [
    {
     "name": "stdout",
     "output_type": "stream",
     "text": [
      "without GPU: 12.772754799574614\n",
      "with GPU: 0.4310423997230828\n"
     ]
    }
   ],
   "source": [
    "from numba import jit, cuda \n",
    "import numpy as np \n",
    "# to measure exec time \n",
    "from timeit import default_timer as timer \n",
    "\n",
    "# normal function to run on cpu \n",
    "def func(a):\t\t\t\t\t\t\t\t \n",
    "\tfor i in range(100000000): \n",
    "\t\ta[i]+= 1\t\n",
    "\n",
    "# function optimized to run on gpu \n",
    "@jit(target_backend='cuda')\t\t\t\t\t\t \n",
    "def func2(a): \n",
    "\tfor i in range(100000000): \n",
    "\t\ta[i]+= 1\n",
    "if __name__==\"__main__\": \n",
    "\tn = 100000000\t\t\t\t\t\t\t\n",
    "\ta = np.ones(n, dtype = np.float64) \n",
    "\t\n",
    "\tstart = timer() \n",
    "\tfunc(a) \n",
    "\tprint(\"without GPU:\", timer()-start)\t \n",
    "\t\n",
    "\tstart = timer() \n",
    "\tfunc2(a) \n",
    "\tprint(\"with GPU:\", timer()-start) "
   ]
  },
  {
   "cell_type": "code",
   "execution_count": 2,
   "metadata": {},
   "outputs": [
    {
     "name": "stderr",
     "output_type": "stream",
     "text": [
      "c:\\Users\\meshk\\anaconda3\\Lib\\site-packages\\cupy\\_environment.py:217: UserWarning: CUDA path could not be detected. Set CUDA_PATH environment variable if CuPy fails to load.\n",
      "  warnings.warn(\n"
     ]
    },
    {
     "name": "stdout",
     "output_type": "stream",
     "text": [
      "GPU Array Creation: 0.25798030011355877\n",
      "CPU Array Copy from GPU: 0.15287439990788698\n",
      "with GPU: 4.956892699934542\n",
      "without GPU: 36.682721100281924\n",
      "Bringing back results: 0.2756736995652318\n"
     ]
    }
   ],
   "source": [
    "import numpy as np\n",
    "import cupy as cp\n",
    "\n",
    "# Create a CuPy array on the GPU\n",
    "start = timer()\n",
    "A_gpu = cp.random.randn(10000, 10000)\n",
    "A_gpu = 0.5 * (A_gpu + A_gpu.T)\n",
    "print(\"GPU Array Creation:\", timer()-start)\t \n",
    "\n",
    "# Copy to a numpy array \n",
    "start = timer()\n",
    "A_cpu = cp.asnumpy(A_gpu)\n",
    "print(\"CPU Array Copy from GPU:\", timer()-start)\t \n",
    "\n",
    "# Compute eigenvalues (vals_gpu) and eigenvectors (vecs_gpu)\n",
    "start = timer() \n",
    "vals_gpu, vecs_gpu = cp.linalg.eigh(A_gpu)\n",
    "print(\"with GPU:\", timer()-start)\t \n",
    "start = timer() \n",
    "vals_cpu, vecs_cpu = np.linalg.eigh(A_cpu)\n",
    "print(\"without GPU:\", timer()-start)\t \n",
    "\n",
    "# Convert results back to numpy arrays:\n",
    "start = timer() \n",
    "vals = cp.asnumpy(vals_gpu)\n",
    "vecs = cp.asnumpy(vecs_gpu)\n",
    "print(\"Bringing back results:\", timer()-start)\t "
   ]
  },
  {
   "cell_type": "code",
   "execution_count": null,
   "metadata": {},
   "outputs": [],
   "source": []
  }
 ],
 "metadata": {
  "kernelspec": {
   "display_name": "base",
   "language": "python",
   "name": "python3"
  },
  "language_info": {
   "codemirror_mode": {
    "name": "ipython",
    "version": 3
   },
   "file_extension": ".py",
   "mimetype": "text/x-python",
   "name": "python",
   "nbconvert_exporter": "python",
   "pygments_lexer": "ipython3",
   "version": "3.11.7"
  }
 },
 "nbformat": 4,
 "nbformat_minor": 2
}
