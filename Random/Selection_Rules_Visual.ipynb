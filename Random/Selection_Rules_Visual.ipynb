{
 "cells": [
  {
   "cell_type": "code",
   "execution_count": 1,
   "metadata": {},
   "outputs": [],
   "source": [
    "%matplotlib ipympl"
   ]
  },
  {
   "cell_type": "code",
   "execution_count": 2,
   "metadata": {},
   "outputs": [],
   "source": [
    "import numpy as np\n",
    "import math\n",
    "import scipy\n",
    "import py3nj\n",
    "import pandas as pd\n",
    "import matplotlib.pyplot as plt"
   ]
  },
  {
   "cell_type": "code",
   "execution_count": 24,
   "metadata": {},
   "outputs": [],
   "source": [
    "def selection_rules(principle_n, m1, m2):\n",
    "    \n",
    "    l_degen = (principle_n-1)*2\n",
    "    \n",
    "    for l_1 in range(l_degen):\n",
    "        for l_2 in range(l_degen):\n",
    "            selection = []\n",
    "            for q in [-1, 0, 1]:\n",
    "                selection.append(py3nj.wigner3j(2*l_1, 2*1, 2*l_2, 2*m1, 2*q, 2*m2))\n",
    "            print(\"For a transition from \" + str(l_1) + \" to \" + str(l_2) + \" the value of E-hat dot mu is: \")\n",
    "            print(selection)"
   ]
  },
  {
   "cell_type": "code",
   "execution_count": 25,
   "metadata": {},
   "outputs": [
    {
     "name": "stdout",
     "output_type": "stream",
     "text": [
      "For a transition from 0 to 0 the value of E-hat dot mu is: \n",
      "[0.0, 0.0, 0.0]\n",
      "For a transition from 0 to 1 the value of E-hat dot mu is: \n",
      "[0.0, -0.5773502691896258, 0.0]\n",
      "For a transition from 1 to 0 the value of E-hat dot mu is: \n",
      "[0.0, -0.5773502691896258, 0.0]\n",
      "For a transition from 1 to 1 the value of E-hat dot mu is: \n",
      "[0.0, -0.0, 0.0]\n"
     ]
    }
   ],
   "source": [
    "selection_rules(2,0,0)"
   ]
  },
  {
   "cell_type": "code",
   "execution_count": 26,
   "metadata": {},
   "outputs": [
    {
     "name": "stdout",
     "output_type": "stream",
     "text": [
      "For a transition from 0 to 0 the value of E-hat dot mu is: \n",
      "[0.0, 0.0, 0.0]\n",
      "For a transition from 0 to 1 the value of E-hat dot mu is: \n",
      "[0.0, -0.5773502691896258, 0.0]\n",
      "For a transition from 0 to 2 the value of E-hat dot mu is: \n",
      "[0.0, 0.0, 0.0]\n",
      "For a transition from 0 to 3 the value of E-hat dot mu is: \n",
      "[0.0, 0.0, 0.0]\n",
      "For a transition from 1 to 0 the value of E-hat dot mu is: \n",
      "[0.0, -0.5773502691896258, 0.0]\n",
      "For a transition from 1 to 1 the value of E-hat dot mu is: \n",
      "[0.0, -0.0, 0.0]\n",
      "For a transition from 1 to 2 the value of E-hat dot mu is: \n",
      "[0.0, 0.36514837167011077, 0.0]\n",
      "For a transition from 1 to 3 the value of E-hat dot mu is: \n",
      "[0.0, 0.0, 0.0]\n",
      "For a transition from 2 to 0 the value of E-hat dot mu is: \n",
      "[0.0, 0.0, 0.0]\n",
      "For a transition from 2 to 1 the value of E-hat dot mu is: \n",
      "[0.0, 0.3651483716701108, 0.0]\n",
      "For a transition from 2 to 2 the value of E-hat dot mu is: \n",
      "[0.0, 0.0, 0.0]\n",
      "For a transition from 2 to 3 the value of E-hat dot mu is: \n",
      "[0.0, -0.29277002188456, 0.0]\n",
      "For a transition from 3 to 0 the value of E-hat dot mu is: \n",
      "[0.0, 0.0, 0.0]\n",
      "For a transition from 3 to 1 the value of E-hat dot mu is: \n",
      "[0.0, 0.0, 0.0]\n",
      "For a transition from 3 to 2 the value of E-hat dot mu is: \n",
      "[0.0, -0.29277002188455997, 0.0]\n",
      "For a transition from 3 to 3 the value of E-hat dot mu is: \n",
      "[0.0, -0.0, 0.0]\n"
     ]
    }
   ],
   "source": [
    "selection_rules(3,0,0)"
   ]
  },
  {
   "cell_type": "code",
   "execution_count": 27,
   "metadata": {},
   "outputs": [
    {
     "name": "stdout",
     "output_type": "stream",
     "text": [
      "For a transition from 0 to 0 the value of E-hat dot mu is: \n",
      "[0.0, 0.0, 0.0]\n",
      "For a transition from 0 to 1 the value of E-hat dot mu is: \n",
      "[0.0, -0.5773502691896258, 0.0]\n",
      "For a transition from 0 to 2 the value of E-hat dot mu is: \n",
      "[0.0, 0.0, 0.0]\n",
      "For a transition from 0 to 3 the value of E-hat dot mu is: \n",
      "[0.0, 0.0, 0.0]\n",
      "For a transition from 0 to 4 the value of E-hat dot mu is: \n",
      "[0.0, 0.0, 0.0]\n",
      "For a transition from 0 to 5 the value of E-hat dot mu is: \n",
      "[0.0, 0.0, 0.0]\n",
      "For a transition from 1 to 0 the value of E-hat dot mu is: \n",
      "[0.0, -0.5773502691896258, 0.0]\n",
      "For a transition from 1 to 1 the value of E-hat dot mu is: \n",
      "[0.0, -0.0, 0.0]\n",
      "For a transition from 1 to 2 the value of E-hat dot mu is: \n",
      "[0.0, 0.36514837167011077, 0.0]\n",
      "For a transition from 1 to 3 the value of E-hat dot mu is: \n",
      "[0.0, 0.0, 0.0]\n",
      "For a transition from 1 to 4 the value of E-hat dot mu is: \n",
      "[0.0, 0.0, 0.0]\n",
      "For a transition from 1 to 5 the value of E-hat dot mu is: \n",
      "[0.0, 0.0, 0.0]\n",
      "For a transition from 2 to 0 the value of E-hat dot mu is: \n",
      "[0.0, 0.0, 0.0]\n",
      "For a transition from 2 to 1 the value of E-hat dot mu is: \n",
      "[0.0, 0.3651483716701108, 0.0]\n",
      "For a transition from 2 to 2 the value of E-hat dot mu is: \n",
      "[0.0, 0.0, 0.0]\n",
      "For a transition from 2 to 3 the value of E-hat dot mu is: \n",
      "[0.0, -0.29277002188456, 0.0]\n",
      "For a transition from 2 to 4 the value of E-hat dot mu is: \n",
      "[0.0, 0.0, 0.0]\n",
      "For a transition from 2 to 5 the value of E-hat dot mu is: \n",
      "[0.0, 0.0, 0.0]\n",
      "For a transition from 3 to 0 the value of E-hat dot mu is: \n",
      "[0.0, 0.0, 0.0]\n",
      "For a transition from 3 to 1 the value of E-hat dot mu is: \n",
      "[0.0, 0.0, 0.0]\n",
      "For a transition from 3 to 2 the value of E-hat dot mu is: \n",
      "[0.0, -0.29277002188455997, 0.0]\n",
      "For a transition from 3 to 3 the value of E-hat dot mu is: \n",
      "[0.0, -0.0, 0.0]\n",
      "For a transition from 3 to 4 the value of E-hat dot mu is: \n",
      "[0.0, 0.2519763153394849, 0.0]\n",
      "For a transition from 3 to 5 the value of E-hat dot mu is: \n",
      "[0.0, 0.0, 0.0]\n",
      "For a transition from 4 to 0 the value of E-hat dot mu is: \n",
      "[0.0, 0.0, 0.0]\n",
      "For a transition from 4 to 1 the value of E-hat dot mu is: \n",
      "[0.0, 0.0, 0.0]\n",
      "For a transition from 4 to 2 the value of E-hat dot mu is: \n",
      "[0.0, 0.0, 0.0]\n",
      "For a transition from 4 to 3 the value of E-hat dot mu is: \n",
      "[0.0, 0.2519763153394849, 0.0]\n",
      "For a transition from 4 to 4 the value of E-hat dot mu is: \n",
      "[0.0, 0.0, 0.0]\n",
      "For a transition from 4 to 5 the value of E-hat dot mu is: \n",
      "[0.0, -0.22473328748774737, 0.0]\n",
      "For a transition from 5 to 0 the value of E-hat dot mu is: \n",
      "[0.0, 0.0, 0.0]\n",
      "For a transition from 5 to 1 the value of E-hat dot mu is: \n",
      "[0.0, 0.0, 0.0]\n",
      "For a transition from 5 to 2 the value of E-hat dot mu is: \n",
      "[0.0, 0.0, 0.0]\n",
      "For a transition from 5 to 3 the value of E-hat dot mu is: \n",
      "[0.0, 0.0, 0.0]\n",
      "For a transition from 5 to 4 the value of E-hat dot mu is: \n",
      "[0.0, -0.22473328748774737, 0.0]\n",
      "For a transition from 5 to 5 the value of E-hat dot mu is: \n",
      "[0.0, -0.0, 0.0]\n"
     ]
    }
   ],
   "source": [
    "selection_rules(4,0,0)"
   ]
  },
  {
   "cell_type": "code",
   "execution_count": null,
   "metadata": {},
   "outputs": [],
   "source": []
  }
 ],
 "metadata": {
  "kernelspec": {
   "display_name": "base",
   "language": "python",
   "name": "python3"
  },
  "language_info": {
   "codemirror_mode": {
    "name": "ipython",
    "version": 3
   },
   "file_extension": ".py",
   "mimetype": "text/x-python",
   "name": "python",
   "nbconvert_exporter": "python",
   "pygments_lexer": "ipython3",
   "version": "3.11.7"
  }
 },
 "nbformat": 4,
 "nbformat_minor": 2
}
