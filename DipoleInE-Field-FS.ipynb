{
 "cells": [
  {
   "cell_type": "markdown",
   "metadata": {},
   "source": [
    "# Imports"
   ]
  },
  {
   "cell_type": "code",
   "execution_count": 1,
   "metadata": {},
   "outputs": [],
   "source": [
    "%matplotlib ipympl"
   ]
  },
  {
   "cell_type": "code",
   "execution_count": 2,
   "metadata": {},
   "outputs": [],
   "source": [
    "import numpy as np\n",
    "import math\n",
    "import scipy\n",
    "import py3nj\n",
    "import pandas as pd\n",
    "import matplotlib.pyplot as plt"
   ]
  },
  {
   "cell_type": "markdown",
   "metadata": {},
   "source": [
    "# Finding the Hamiltonian\n",
    "\n",
    "The basic Hamiltonian is given by the kinetic energy of a rigid rotor, plus the interaction of the dipole with the electric field.\n",
    "\n",
    "$$ H = \\frac{L^2}{2I} + \\vec{d}\\cdot\\vec{E} $$\n",
    "\n",
    "Now we will include the nuclear spin-orbital angular momentum coupling term, as well as the dipole-dipole interaction term.\n",
    "\n",
    "$$ H_{tot} = \\frac{L^2}{2I} + \\vec{d}\\cdot\\vec{E} + H_{JI} + H_{dip} $$\n",
    "\n",
    "Now we have to include a nuclear spin eigenfunction in the eigenfunctions for the Hamiltonian. We find each element in the hamiltonian as follows:\n",
    "\n",
    "$$ H_{i j} (m)= \\braket{m m_I|H| m' m_I'}$$\n",
    "\n",
    "Where m is the projection of angular momentum J onto the Z-axis, and m_I is the projection of the nuclear spin onto the Z-axis. Note that we will compute the energies for fixed J and I values, with eigenstates labeled $\\ket{m \\ m_I}$. As m $\\in [-J,J]$ and $m_I \\in [-I,I]$, the dimension of our hamiltonian will be (2J+1)(2I+1). We will diagonalize the Hamiltonian matrix to find its eigenvalues, yielding the new energies of the system.\n",
    "\n",
    "Note that for the order of the eigenstates, we will use the counting scheme as follows,\n",
    "\n",
    "For J = 1 and I = 1 dim(H) = 9 and $\\psi _0 = \\ket{-1 \\ -1}$, $\\psi _1 = \\ket{-1 \\ 0}$, $\\psi _2 = \\ket{-1 \\ 1}$, ... , $\\psi _7 = \\ket{1 \\ 0}$, $\\psi _8 = \\ket{1 \\ 1}$"
   ]
  },
  {
   "cell_type": "code",
   "execution_count": 40,
   "metadata": {},
   "outputs": [],
   "source": [
    "def getHij(index_1, index_2, E, J=1, I=1, B0=1, hbar=1, dip=1, C_I=1):\n",
    "    num_m = 2*J+1\n",
    "    num_mI = 2*I+1\n",
    "    dim_H = num_m * num_mI\n",
    "    \n",
    "    if index_1 < 0 or index_2 < 0 or index_1 >= dim_H or index_2 >= dim_H:\n",
    "        raise Exception('The hamiltonian indices are out of range given J='+str(J)+', I='+str(I)+', dim(H)='+str(dim_H))\n",
    "    \n",
    "    mJ_1 = -J + index_1 // num_mI\n",
    "    mI_1 = -I + index_1 % num_m\n",
    "    \n",
    "    mJ_2 = -J + index_2 // num_mI\n",
    "    mI_2 = -I + index_2 % num_m\n",
    "    \n",
    "    H_contrib_J = 0\n",
    "    if mJ_1 == mJ_2 and mI_1 == mI_2:\n",
    "        H_contrib_J = B0 * J*(J + 1) * hbar * hbar \n",
    "    \n",
    "    H_contrib_E = 0\n",
    "    sign = 1 - 2 * ((1 - J - mI_2) % 2)\n",
    "    if mI_1 == mI_2:\n",
    "        H_contrib_E = dip * E * 2 * math.sqrt((2*J+1)*math.pi/3) * sign * py3nj.wigner3j(2*J, 2, 2*J, \n",
    "                                                                                         2*mJ_1, 0, -2*mJ_2)\n",
    "    H_contrib_JI = 0\n",
    "    sign1 = 1 - 2 * ((J+I-mJ_1-mI_1) % 2)    \n",
    "    for p in [-1,0,1]:\n",
    "        H_contrib_JI += sign1 * (1 - 2 * (p % 2)) * py3nj.wigner3j(2*J, 2, 2*J,\n",
    "                                               -2*mJ_1, 2*p, 2*mJ_2) * py3nj.wigner3j(2*I, 2, 2*I, \n",
    "                                                                                    -2*mI_1, -2*p, 2*mI_2) * math.sqrt(J*(J+1)*(2*J+1)*I*(I+1)*(2*I+1))\n",
    "    H_contrib_JI *= C_I\n",
    "    \n",
    "    return H_contrib_JI + H_contrib_E + H_contrib_J\n",
    "    "
   ]
  },
  {
   "cell_type": "code",
   "execution_count": 46,
   "metadata": {},
   "outputs": [],
   "source": [
    "def findH(E, J=1, I=1, B0=1, hbar=1, dip=1, C_I=1):\n",
    "    num_m = 2*J+1\n",
    "    num_mI = 2*I+1\n",
    "    dim_H = num_m * num_mI\n",
    "    \n",
    "    # Initialize Hamiltonian matrix\n",
    "    H = np.zeros((dim_H,dim_H))\n",
    "    \n",
    "    for index_1 in range(dim_H):\n",
    "        for index_2 in range(dim_H):\n",
    "            H[index_1, index_2] = getHij(index_1, index_2, E=E, J=J, I=I, B0=B0, hbar=hbar, dip=dip, C_I=C_I)\n",
    "    \n",
    "    return H"
   ]
  },
  {
   "cell_type": "code",
   "execution_count": 47,
   "metadata": {},
   "outputs": [],
   "source": [
    "def get_eigenstates_for_E_range(H, E_min, E_max, E_step):\n",
    "  # This method returns a dictionary which will contain dim arrays within it, each of\n",
    "  # which contains the (eigenvalue, eigenvector) tuples corresponding to an\n",
    "  # electric field value.\n",
    "  \n",
    "  Efield_eigenstates = {}\n",
    "  for E in range(E_min,E_max,E_step):\n",
    "    eigenstates = scipy.linalg.eig(H)\n",
    "    eigenstates = zip(np.real(eigenstates[0]), eigenstates[1])\n",
    "    Efield_eigenstates['E='+str(E)] = (sorted(eigenstates, key=lambda x: (x[0])))\n",
    "  return Efield_eigenstates"
   ]
  },
  {
   "cell_type": "code",
   "execution_count": 62,
   "metadata": {},
   "outputs": [],
   "source": [
    "H = findH(1,1,1,1,1,1,0)"
   ]
  },
  {
   "cell_type": "code",
   "execution_count": 63,
   "metadata": {},
   "outputs": [
    {
     "name": "stdout",
     "output_type": "stream",
     "text": [
      "[[0.55279749 0.         0.         0.         0.         0.\n",
      "  0.         0.         0.        ]\n",
      " [0.         3.44720251 0.         0.         0.         0.\n",
      "  0.         0.         0.        ]\n",
      " [0.         0.         0.55279749 0.         0.         0.\n",
      "  0.         0.         0.        ]\n",
      " [0.         0.         0.         2.         0.         0.\n",
      "  0.         0.         0.        ]\n",
      " [0.         0.         0.         0.         2.         0.\n",
      "  0.         0.         0.        ]\n",
      " [0.         0.         0.         0.         0.         2.\n",
      "  0.         0.         0.        ]\n",
      " [0.         0.         0.         0.         0.         0.\n",
      "  3.44720251 0.         0.        ]\n",
      " [0.         0.         0.         0.         0.         0.\n",
      "  0.         0.55279749 0.        ]\n",
      " [0.         0.         0.         0.         0.         0.\n",
      "  0.         0.         3.44720251]]\n"
     ]
    }
   ],
   "source": [
    "print(H)"
   ]
  },
  {
   "cell_type": "code",
   "execution_count": null,
   "metadata": {},
   "outputs": [],
   "source": []
  }
 ],
 "metadata": {
  "kernelspec": {
   "display_name": "base",
   "language": "python",
   "name": "python3"
  },
  "language_info": {
   "codemirror_mode": {
    "name": "ipython",
    "version": 3
   },
   "file_extension": ".py",
   "mimetype": "text/x-python",
   "name": "python",
   "nbconvert_exporter": "python",
   "pygments_lexer": "ipython3",
   "version": "3.11.7"
  }
 },
 "nbformat": 4,
 "nbformat_minor": 2
}
