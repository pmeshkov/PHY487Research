{
 "cells": [
  {
   "cell_type": "code",
   "execution_count": 1,
   "metadata": {},
   "outputs": [],
   "source": [
    "import numpy as np\n",
    "from sympy.physics.wigner import wigner_3j"
   ]
  },
  {
   "cell_type": "markdown",
   "metadata": {},
   "source": [
    "# One Way Bijection Map"
   ]
  },
  {
   "cell_type": "code",
   "execution_count": 2,
   "metadata": {},
   "outputs": [],
   "source": [
    "def T(n3, n1, m3, m1, n2, m2, N=10):\n",
    "    m1_ = m1 + N\n",
    "    m2_ = m2 + 2\n",
    "    m3_ = m3 + N\n",
    "    \n",
    "    return m2_ + 5*n2 + 15*m1_ + (15 + 30*N)*m3_ + (15+ 60*N + 60*N*N)*n1 + (15 + 75*N + 120*N*N + 60 *N*N*N)*n3\n",
    "\n",
    "# n3 n1 will be 3/2 or 7/2\n",
    "def T_half_int(n3, n1, m3, m1, n2, m2, N = 7/2):\n",
    "    n3 = n3 - 0.5 # 1/2, 3/2, 5/2, 7/2 -> 0, 1, 2, 3 (max is (N - 0.5))\n",
    "    n1 = n1 - 0.5 # 1/2, 3/2, 5/2, 7/2 -> 0, 1, 2, 3 (max is (N - 0.5))\n",
    "    \n",
    "    n2 = n2 # 0, 1, 2 (max is 2)\n",
    "    m2 = m2 + 2 # -2, -1, 0, 1, 2 -> 0, 1, 2, 3, 4 (max is 4)\n",
    "    \n",
    "    m3 = m3 + N # -7/2, -5/2, -3/2, -1/2, 1/2, 3/2, 5/2, 7/2 -> 0, 1, 2, 3, 4, 5, 6, 7 (max is N*2)\n",
    "    m1 = m1 + N # -7/2, -5/2, -3/2, -1/2, 1/2, 3/2, 5/2, 7/2 -> 0, 1, 2, 3, 4, 5, 6, 7 (max is N*2)\n",
    "    \n",
    "    # max: (4)    (4)+(2*5)    (4+2*5)+(15*N*2)    (4+2*5+15*N*2)+(15+30*N)*N*2   (4+2*5+15*N*2)+(15+30*N)*N*2 + (15+60*N+60*N*N)*(N-0.5)\n",
    "    return int(m2     + 5 * n2         + 15 * m1               + (15+30*N)*m3  + (15+60*N+60*N*N)*n1     + ((4+2*5+15*N*2)+(15+30*N)*N*2 + (15+60*N+60*N*N)*(N-0.5) + 1)*n3)"
   ]
  },
  {
   "cell_type": "markdown",
   "metadata": {},
   "source": [
    "# Building Integer Wigner3j Array\n",
    "Also ensuring aggreement with *sympy* *wigner_3j* function"
   ]
  },
  {
   "cell_type": "code",
   "execution_count": 3,
   "metadata": {},
   "outputs": [
    {
     "name": "stdout",
     "output_type": "stream",
     "text": [
      "False\n"
     ]
    }
   ],
   "source": [
    "N = 10\n",
    "arr = np.zeros(800415, dtype = np.float64)\n",
    "\n",
    "i=0\n",
    "for n3 in range(0, N+1):\n",
    "    for n1 in range(0, N+1):\n",
    "        for m3 in range(-N, N+1):\n",
    "            for m1 in range(-N, N+1):\n",
    "                for n2 in range(0, 3):\n",
    "                    for m2 in range(-2,3):\n",
    "                        arr[i] = wigner_3j(n1,n2,n3,m1,m2,m3)\n",
    "                        i += 1\n",
    "\n",
    "#np.save(\"wigner3j_integer_N=10.npy\", arr)\n",
    "\n",
    "disagree = False\n",
    "for n3 in range(0, N+1):\n",
    "    for n1 in range(0, N+1):\n",
    "        for m3 in range(-N, N+1):\n",
    "            for m1 in range(-N, N+1):\n",
    "                for n2 in range(0, 3):\n",
    "                    for m2 in range(-2,3):\n",
    "                        if abs(wigner_3j(n1,n2,n3,m1,m2,m3) - arr[T(n3,n1,m3,m1,n2,m2)]) > 0.0000001:\n",
    "                            disagree = True\n",
    "print(disagree)"
   ]
  },
  {
   "cell_type": "markdown",
   "metadata": {},
   "source": [
    "# Building Half-Integer Wigner3j Array\n",
    "Also ensuring aggreement with *sympy* *wigner_3j* function"
   ]
  },
  {
   "cell_type": "code",
   "execution_count": 5,
   "metadata": {},
   "outputs": [
    {
     "name": "stdout",
     "output_type": "stream",
     "text": [
      "False\n"
     ]
    }
   ],
   "source": [
    "N = 7/2\n",
    "arr = np.zeros(15360, dtype = np.float64)\n",
    "\n",
    "i=0\n",
    "for n3 in np.arange(0.5, N+1, 1):\n",
    "    for n1 in np.arange(0.5, N+1, 1):\n",
    "        for m3 in np.arange(-N, N+1, 1):\n",
    "            for m1 in np.arange(-N, N+1, 1):\n",
    "                for n2 in range(0, 3):\n",
    "                    for m2 in range(-2,3):\n",
    "                        arr[i] = wigner_3j(n1,n2,n3,m1,m2,m3)\n",
    "                        i += 1\n",
    "\n",
    "#np.save(\"wigner_halfint_N=3.5.npy\", arr)\n",
    "\n",
    "disagree = False\n",
    "for n3 in np.arange(0.5, N+1, 1):\n",
    "    for n1 in np.arange(0.5, N+1, 1):\n",
    "        for m3 in np.arange(-N, N+1, 1):\n",
    "            for m1 in np.arange(-N, N+1, 1):\n",
    "                for n2 in range(0, 3):\n",
    "                    for m2 in range(-2,3):\n",
    "                        if abs(wigner_3j(n1,n2,n3,m1,m2,m3) - arr[T_half_int(n3,n1,m3,m1,n2,m2)]) > 0.0000001:\n",
    "                            disagree = True\n",
    "print(disagree)"
   ]
  }
 ],
 "metadata": {
  "kernelspec": {
   "display_name": "base",
   "language": "python",
   "name": "python3"
  },
  "language_info": {
   "codemirror_mode": {
    "name": "ipython",
    "version": 3
   },
   "file_extension": ".py",
   "mimetype": "text/x-python",
   "name": "python",
   "nbconvert_exporter": "python",
   "pygments_lexer": "ipython3",
   "version": "3.11.7"
  }
 },
 "nbformat": 4,
 "nbformat_minor": 2
}
