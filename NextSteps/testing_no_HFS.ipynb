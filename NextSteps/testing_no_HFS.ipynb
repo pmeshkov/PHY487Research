{
 "cells": [
  {
   "cell_type": "markdown",
   "metadata": {},
   "source": [
    "# Setup"
   ]
  },
  {
   "cell_type": "code",
   "execution_count": 1,
   "metadata": {},
   "outputs": [],
   "source": [
    "import scipy\n",
    "import math\n",
    "import numpy as np\n",
    "from diagonalize import State, delta, neg_1_pow, Interaction, Molecule\n",
    "import matplotlib.pyplot as plt\n",
    "from tqdm import tqdm"
   ]
  },
  {
   "cell_type": "code",
   "execution_count": 2,
   "metadata": {},
   "outputs": [],
   "source": [
    "int_wigner_arr = np.load(\"wigner3j_integer_N=10.npy\")\n",
    "halfint_wigner_arr = np.load(\"wigner3j_halfint_N=3.5.npy\")\n",
    "\n",
    "def T_int(n3, n1, m3, m1, n2, m2, N=10):\n",
    "    m1_ = m1 + N\n",
    "    m2_ = m2 + 2\n",
    "    m3_ = m3 + N\n",
    "    \n",
    "    return m2_ + 5*n2 + 15*m1_ + (15 + 30*N)*m3_ + (15+ 60*N + 60*N*N)*n1 + (15 + 75*N + 120*N*N + 60 *N*N*N)*n3\n",
    "\n",
    "def T_half_int(n3, n1, m3, m1, n2, m2, N = 7/2):\n",
    "    n3 = n3 - 0.5 # 1/2, 3/2, 5/2, 7/2 -> 0, 1, 2, 3 (max is (N - 0.5))\n",
    "    n1 = n1 - 0.5 # 1/2, 3/2, 5/2, 7/2 -> 0, 1, 2, 3 (max is (N - 0.5))\n",
    "    \n",
    "    n2 = n2 # 0, 1, 2 (max is 2)\n",
    "    m2 = m2 + 2 # -2, -1, 0, 1, 2 -> 0, 1, 2, 3, 4 (max is 4)\n",
    "    \n",
    "    m3 = m3 + N # -7/2, -5/2, -3/2, -1/2, 1/2, 3/2, 5/2, 7/2 -> 0, 1, 2, 3, 4, 5, 6, 7 (max is N*2)\n",
    "    m1 = m1 + N # -7/2, -5/2, -3/2, -1/2, 1/2, 3/2, 5/2, 7/2 -> 0, 1, 2, 3, 4, 5, 6, 7 (max is N*2)\n",
    "    \n",
    "    # max: (4)    (4)+(2*5)    (4+2*5)+(15*N*2)    (4+2*5+15*N*2)+(15+30*N)*N*2   (4+2*5+15*N*2)+(15+30*N)*N*2 + (15+60*N+60*N*N)*(N-0.5)\n",
    "    return int(m2     + 5 * n2         + 15 * m1               + (15+30*N)*m3  + (15+60*N+60*N*N)*n1     + (60*N*N*N + 90*N*N + 45*N + 7.5)*n3)\n",
    "    \n",
    "def wigner_3j(n1, n2, n3, m1, m2, m3):\n",
    "    if n1 == int(n1) and n2 == int(n2) and n3 == int(n3):\n",
    "        return int_wigner_arr[T_int(n3,n1,m3,m1,n2,m2)]\n",
    "    return halfint_wigner_arr[T_half_int(n3,n1,m3,m1,n2,m2)]\n",
    "    "
   ]
  },
  {
   "cell_type": "code",
   "execution_count": 3,
   "metadata": {},
   "outputs": [],
   "source": [
    "h = scipy.constants.h\n",
    "muN = scipy.constants.physical_constants['nuclear magneton'][0]\n",
    "bohr = scipy.constants.physical_constants['Bohr radius'][0]\n",
    "eps0 = scipy.constants.epsilon_0\n",
    "c = scipy.constants.c\n",
    "DebyeSI = 3.33564e-30\n",
    "\n",
    "Na23Cs133 = {\"I1\":1.5,\n",
    "            \"I2\":3.5,\n",
    "            \"g1\":1.478,\n",
    "            \"g2\":0.738,\n",
    "            \"d0\":4.69*DebyeSI,\n",
    "            \"Brot\":0.058*c*100*h,\n",
    "            \"Drot\":0*h,\n",
    "            \"Q1\":-0.097e6*h,\n",
    "            \"Q2\":0.150e6*h,\n",
    "            \"C1\":14.2*h,\n",
    "            \"C2\":854.5*h,\n",
    "            \"C3\":105.6*h,\n",
    "            \"C4\":3941.8*h,\n",
    "            \"MuN\":0*muN,\n",
    "            \"Mu1\":1.478*muN,\n",
    "            \"Mu2\":0.738*muN,\n",
    "            \"a0\":0*h, #Not reported\n",
    "            \"a2\":0*h, #Not reported\n",
    "            \"Beta\":0}\n",
    "\n",
    "def rotational(state1: State, state2:State):\n",
    "    n, mn, m1, m2  = state1.get_state_vector()\n",
    "    n_, mn_, m1_, m2_  = state2.get_state_vector()\n",
    "\n",
    "    if delta(n, n_) and delta(mn, mn_) and delta(m1, m1_) and delta(m2, m2_):\n",
    "        return n*(n+1)\n",
    "    return 0\n",
    "\n",
    "def centrifugal(state1: State, state2:State):\n",
    "    n, mn, m1, m2  = state1.get_state_vector()\n",
    "    n_, mn_, m1_, m2_  = state2.get_state_vector()\n",
    "\n",
    "    if delta(n, n_) and delta(mn, mn_) and delta(m1, m1_) and delta(m2, m2_):\n",
    "        return -n*(n+1)**2\n",
    "    return 0\n",
    "\n",
    "def quad_Na(state1: State, state2:State):\n",
    "    i1 = 3/2\n",
    "    i2 = 7/2\n",
    "\n",
    "    n, mn, m1, m2  = state1.get_state_vector()\n",
    "    n_, mn_, m1_, m2_  = state2.get_state_vector()\n",
    "    \n",
    "    if not delta(m2, m2_):\n",
    "        return 0\n",
    "    \n",
    "    sum_term = 0\n",
    "    for p in range(-2,3):\n",
    "        wigp1 = wigner_3j(n, 2, n_, -mn, p, mn_)\n",
    "        wigp2 = wigner_3j(i1, 2, i1, -m1, -p, m1_)\n",
    "        sum_term += neg_1_pow(p) * wigp1 * wigp2\n",
    "    \n",
    "    if sum_term == 0:\n",
    "        return 0 \n",
    "        \n",
    "    wig3 = wigner_3j(n, 2, n_, 0, 0, 0)\n",
    "    if wig3 == 0:\n",
    "        return 0\n",
    "\n",
    "    wig4 = wigner_3j(i1, 2, i1, -i1, 0, i1)\n",
    "    if wig4 == 0:\n",
    "        raise(\"ArithmeticError; wigner coefficient is 0 but must be inverted\")\n",
    "    wig4 = 1.0/wig4\n",
    "    \n",
    "    other = neg_1_pow(-mn+i1-m1)*math.sqrt((2*n + 1) * (2*n_ + 1))/4\n",
    "\n",
    "    return sum_term * wig3 * wig4 * other\n",
    "\n",
    "def quad_Cs(state1:State, state2:State):\n",
    "    i1 = 3/2\n",
    "    i2 = 7/2\n",
    "\n",
    "    n, mn, m1, m2  = state1.get_state_vector()\n",
    "    n_, mn_, m1_, m2_  = state2.get_state_vector()\n",
    "    \n",
    "    if not delta(m1, m1_):\n",
    "        return 0\n",
    "    \n",
    "    sum_term = 0\n",
    "    for p in range(-2,3):\n",
    "        wigp1 = wigner_3j(n, 2, n_, -mn, p, mn_)\n",
    "        wigp2 = wigner_3j(i2, 2, i2, -m2, -p, m2_)\n",
    "        sum_term += neg_1_pow(p) * wigp1 * wigp2\n",
    "    \n",
    "    if sum_term == 0:\n",
    "        return 0 \n",
    "        \n",
    "    wig3 = wigner_3j(n, 2, n_, 0, 0, 0)\n",
    "    if wig3 == 0:\n",
    "        return 0\n",
    "\n",
    "    wig4 = wigner_3j(i2, 2, i2, -i2, 0, i2)\n",
    "    if wig4 == 0:\n",
    "        raise(\"ArithmeticError; wigner coefficient is 0 but must be inverted\")\n",
    "    wig4 = 1.0/wig4\n",
    "    \n",
    "    other = neg_1_pow(-mn+i2-m2)*math.sqrt((2*n + 1) * (2*n_ + 1))/4\n",
    "\n",
    "    return sum_term * wig3 * wig4 * other\n",
    "\n",
    "def spin_rot_Na(state1:State, state2:State):\n",
    "    i1 = 3/2\n",
    "    i2 = 7/2\n",
    "\n",
    "    n, mn, m1, m2  = state1.get_state_vector()\n",
    "    n_, mn_, m1_, m2_  = state2.get_state_vector()\n",
    "    \n",
    "    if not (delta(n, n_) and delta(m2, m2_)):\n",
    "        return 0\n",
    "    \n",
    "    sum_term = 0\n",
    "    for p in range(-1,2):\n",
    "        wigp1 = wigner_3j(n, 1, n, mn, p, -mn_)\n",
    "        wigp2 = wigner_3j(i1, 1, i1, m1, -p, -m1_)\n",
    "        sum_term += wigp1 * wigp2 * neg_1_pow(p)\n",
    "       \n",
    "    if sum_term == 0:\n",
    "        return 0\n",
    "        \n",
    "    other = neg_1_pow(n+mn_+i1+m1_) * math.sqrt(n * (n + 1) * (2*n + 1) * i1 * (i1 + 1) * (2*i1 + 1))\n",
    "    if other == 0:\n",
    "        return 0 \n",
    "\n",
    "    return sum_term * other\n",
    "\n",
    "def spin_rot_Cs(state1:State, state2:State):\n",
    "    i1 = 3/2\n",
    "    i2 = 7/2\n",
    "\n",
    "    n, mn, m1, m2  = state1.get_state_vector()\n",
    "    n_, mn_, m1_, m2_  = state2.get_state_vector()\n",
    "    \n",
    "    if not (delta(n, n_) and delta(m1, m1_)):\n",
    "        return 0\n",
    "    \n",
    "    other = neg_1_pow(n+mn_+i2+m2_) * math.sqrt(n * (n + 1) * (2*n + 1) * i2 * (i2 + 1) * (2*i2 + 1))\n",
    "    if other == 0:\n",
    "        return 0 \n",
    "    \n",
    "    sum_term = 0\n",
    "    for p in range(-1,2):\n",
    "        wigp1 = wigner_3j(n, 1, n, mn, p, -mn_)\n",
    "        wigp2 = wigner_3j(i2, 1, i2, m2, -p, -m2_)\n",
    "        sum_term += wigp1 * wigp2 * neg_1_pow(p)\n",
    "    \n",
    "    if sum_term == 0:\n",
    "        return 0\n",
    "\n",
    "    return sum_term * other\n",
    "\n",
    "def nuc_spin_spin(state1: State, state2:State):\n",
    "    i1 = 3/2\n",
    "    i2 = 7/2\n",
    "\n",
    "    n, mn, m1, m2  = state1.get_state_vector()\n",
    "    n_, mn_, m1_, m2_  = state2.get_state_vector()\n",
    "    \n",
    "    if not (delta(n, n_) and delta(mn, mn_)):\n",
    "        return 0\n",
    "    \n",
    "    other = neg_1_pow(i1+m1_+i2+m2_) * math.sqrt(i1 * (i1 + 1) * (2*i1 + 1) * i2 * (i2 + 1) * (2*i2 + 1))\n",
    "    \n",
    "    sum_term = 0\n",
    "    for p in range(-1,2):\n",
    "        wigp1 = wigner_3j(i1, 1, i1, m1, p, -m1_)\n",
    "        wigp2 = wigner_3j(i2, 1, i2, m2, -p, -m2_)\n",
    "        sum_term += wigp1 * wigp2 * neg_1_pow(p)\n",
    "    \n",
    "    if sum_term == 0:\n",
    "        return 0\n",
    "\n",
    "    return sum_term * other\n",
    "\n",
    "def nuc_spin_spin_dip(state1: State, state2:State):\n",
    "    i1 = 3/2\n",
    "    i2 = 7/2\n",
    "\n",
    "    n, mn, m1, m2  = state1.get_state_vector()\n",
    "    n_, mn_, m1_, m2_  = state2.get_state_vector()\n",
    "    \n",
    "    sqrtpart = -math.sqrt(30 * i1 * (i1 + 1) * (2*i1 + 1) * i2 * (i2 + 1) * (2*i2 + 1) * (2*n + 1) * (2*n_ + 1))\n",
    "    \n",
    "    negpart = neg_1_pow(i1 + i1 - m1 - m2 - mn)\n",
    "    \n",
    "    wig0 = wigner_3j(n, 2, n_, 0, 0, 0)\n",
    "    \n",
    "    sum = 0\n",
    "    \n",
    "    for p in range(-1,2):\n",
    "        wig1 = wigner_3j(i2, 1, i2, -m2, -p, m2)\n",
    "        \n",
    "        for p1 in range(-1,2):\n",
    "            for p2 in range(-1,2):\n",
    "                \n",
    "                wig2 = wigner_3j(n, 1, n_, -mn, p1, mn_)\n",
    "                wig3 = wigner_3j(i1, 1, i1, -m1, p2, m1_)\n",
    "                wig4 = wigner_3j(1, 2, 1, p1, p2, -p)\n",
    "        sum += wig1 * wig2 * wig3 * wig4\n",
    "        \n",
    "    if sum == 0:\n",
    "        return 0\n",
    "    \n",
    "    return sqrtpart * negpart * wig0 * sum\n",
    "\n",
    "def stark(state1: State, state2:State):\n",
    "    \n",
    "    n, mn, m1, m2  = state1.get_state_vector()\n",
    "    n_, mn_, m1_, m2_  = state2.get_state_vector()\n",
    "    \n",
    "    if not (delta(mn, mn_) and delta(m1, m1_) and delta(m2, m2_)):\n",
    "        return 0\n",
    "    \n",
    "    wig1 = wigner_3j(n, 1, n_, -mn, 0, mn)\n",
    "    if wig1 == 0:\n",
    "        return 0\n",
    "    \n",
    "    wig2 = wigner_3j(n, 1, n_, 0, 0, 0)\n",
    "    if wig2 == 0:\n",
    "        return 0\n",
    "    \n",
    "    other = -neg_1_pow(mn+m1+m2) * math.sqrt((2*n + 1) * (2*n_ + 1))\n",
    "    #print(state1,state2, other)\n",
    "    \n",
    "    return wig1 * wig2 * other\n",
    "\n",
    "    "
   ]
  },
  {
   "cell_type": "markdown",
   "metadata": {},
   "source": [
    "# Molecule Initialization"
   ]
  },
  {
   "cell_type": "code",
   "execution_count": 4,
   "metadata": {},
   "outputs": [],
   "source": [
    "from scipy.constants import physical_constants\n",
    "from scipy.constants import c\n",
    "from scipy.constants import epsilon_0\n",
    "\n",
    "int_rotational = Interaction(Na23Cs133[\"Brot\"], rotational)\n",
    "int_centrifugal = Interaction(Na23Cs133[\"Drot\"], centrifugal)\n",
    "int_quad_na = Interaction(Na23Cs133[\"Q1\"], quad_Na)\n",
    "int_quad_cs = Interaction(Na23Cs133[\"Q2\"], quad_Cs)\n",
    "\n",
    "const_nuc_spin_spin_dip = Na23Cs133[\"g1\"] * Na23Cs133[\"g2\"] * physical_constants[\"nuclear magneton\"][0]**2 / (4 * math.pi * epsilon_0 * c * c)\n",
    "int_nuc_spin_spin_dip = Interaction(const_nuc_spin_spin_dip, nuc_spin_spin_dip)\n",
    "int_nuc_spin_spin = Interaction(Na23Cs133[\"C4\"], nuc_spin_spin)\n",
    "int_spin_rot_Na = Interaction(Na23Cs133[\"C1\"], spin_rot_Na)\n",
    "int_spin_rot_Cs = Interaction(Na23Cs133[\"C2\"], spin_rot_Cs)\n",
    "int_stark = Interaction(Na23Cs133[\"d0\"], stark)"
   ]
  },
  {
   "cell_type": "code",
   "execution_count": 5,
   "metadata": {},
   "outputs": [
    {
     "name": "stdout",
     "output_type": "stream",
     "text": [
      "H has dim 121\n"
     ]
    }
   ],
   "source": [
    "NaCs = Molecule(range(11), 0, 0)\n",
    "\n",
    "NaCs.add_interaction(int_rotational)\n",
    "#NaCs.add_interaction(int_centrifugal)\n",
    "#NaCs.add_interaction(int_quad_na)\n",
    "#NaCs.add_interaction(int_quad_cs)\n",
    "#NaCs.add_interaction(int_nuc_spin_spin)\n",
    "#NaCs.add_interaction(int_nuc_spin_spin_dip)\n",
    "#NaCs.add_interaction(int_spin_rot_Na)\n",
    "#NaCs.add_interaction(int_spin_rot_Cs)\n",
    "NaCs.add_changing_interaction(int_stark)"
   ]
  },
  {
   "cell_type": "code",
   "execution_count": 6,
   "metadata": {},
   "outputs": [
    {
     "data": {
      "text/plain": [
       "array([[[ 0.00000000e+00,  0.00000000e+00, -9.03215514e-30, ...,\n",
       "          0.00000000e+00,  0.00000000e+00,  0.00000000e+00],\n",
       "        [ 0.00000000e+00,  0.00000000e+00,  0.00000000e+00, ...,\n",
       "          0.00000000e+00,  0.00000000e+00,  0.00000000e+00],\n",
       "        [-9.03215514e-30,  0.00000000e+00,  0.00000000e+00, ...,\n",
       "          0.00000000e+00,  0.00000000e+00,  0.00000000e+00],\n",
       "        ...,\n",
       "        [ 0.00000000e+00,  0.00000000e+00,  0.00000000e+00, ...,\n",
       "          0.00000000e+00,  0.00000000e+00,  0.00000000e+00],\n",
       "        [ 0.00000000e+00,  0.00000000e+00,  0.00000000e+00, ...,\n",
       "          0.00000000e+00,  0.00000000e+00,  0.00000000e+00],\n",
       "        [ 0.00000000e+00,  0.00000000e+00,  0.00000000e+00, ...,\n",
       "          0.00000000e+00,  0.00000000e+00,  0.00000000e+00]]])"
      ]
     },
     "execution_count": 6,
     "metadata": {},
     "output_type": "execute_result"
    }
   ],
   "source": [
    "NaCs.find_H_zero()\n",
    "NaCs.find_H_prime()"
   ]
  },
  {
   "cell_type": "markdown",
   "metadata": {},
   "source": [
    "# Building Dip-Dip matrix over all states"
   ]
  },
  {
   "cell_type": "markdown",
   "metadata": {},
   "source": [
    "First, we begin by selecting two electric field strengths to represent the electric fields of each qubit. $E_1$ will correspond to $10 \\ [kV/cm]$, while $E_2$ will correspond to $6.78 \\ [kV/cm]$."
   ]
  },
  {
   "cell_type": "code",
   "execution_count": 7,
   "metadata": {},
   "outputs": [
    {
     "name": "stdout",
     "output_type": "stream",
     "text": [
      "eigenvalues_and_eigenvectors_E_1 corresponds to E = 10.0 [kV/cm]\n",
      "eigenvalues_and_eigenvectors_E_2 corresponds to E = 6.78 [kV/cm]\n"
     ]
    }
   ],
   "source": [
    "E_range = np.linspace(0, 10, int(60)) * 1e5\n",
    "eigenvalues_and_eigenvectors_E_1 = NaCs.compute_eigenval_over_range([E_range[-1:]])\n",
    "eigenvalues_and_eigenvectors_E_2 = NaCs.compute_eigenval_over_range([E_range[-20:-19]])\n",
    "print(\"eigenvalues_and_eigenvectors_E_1 corresponds to E =\",np.round(E_range[-1:][0]/1e5,2),'[kV/cm]')\n",
    "print(\"eigenvalues_and_eigenvectors_E_2 corresponds to E =\",np.round(E_range[-20:-19][0]/1e5,2),'[kV/cm]')\n",
    "# not actually taking the first element; eigenvalues_and_eigenvectors_E_* is an array of tuples\n",
    "eigenvalues_1, eigenvectors_1 = eigenvalues_and_eigenvectors_E_1[0]\n",
    "eigenvalues_2, eigenvectors_2 = eigenvalues_and_eigenvectors_E_2[0]\n",
    "basis = NaCs.states"
   ]
  },
  {
   "cell_type": "markdown",
   "metadata": {},
   "source": [
    "Now, let's define the dipole dipole computation between two eigenvectors. It is simply a product of the two series representing each state. Note that we use the stark function, as it is just defined as the inner product $\\bra{i}\\cos(\\theta)\\ket{j}$."
   ]
  },
  {
   "cell_type": "code",
   "execution_count": 8,
   "metadata": {},
   "outputs": [],
   "source": [
    "def dipole_dipole_matrix_elem(evec1, evec2, basis):\n",
    "    if (len(evec1) != len(evec2) or len(evec1) != len(basis)):\n",
    "        raise('ArithmeticError')\n",
    "    else:\n",
    "        value = 0\n",
    "        for i, a in enumerate(evec1):\n",
    "            for j, b in enumerate(evec2):\n",
    "                value += a * b * stark(basis[i], basis[j])\n",
    "        return value"
   ]
  },
  {
   "cell_type": "markdown",
   "metadata": {},
   "source": [
    "# Data analysis on the Dip-Dip matrix"
   ]
  },
  {
   "cell_type": "markdown",
   "metadata": {},
   "source": [
    "Let's compute a matrix of all the possible transitions for this given system. Finding the maximal values in dipole coupling matrix $1$, only up to some maximum. Same for dipole coupling matrix $2$."
   ]
  },
  {
   "cell_type": "code",
   "execution_count": 9,
   "metadata": {},
   "outputs": [
    {
     "name": "stderr",
     "output_type": "stream",
     "text": [
      "100%|██████████| 121/121 [01:46<00:00,  1.13it/s]\n",
      "100%|██████████| 121/121 [01:47<00:00,  1.13it/s]"
     ]
    },
    {
     "name": "stdout",
     "output_type": "stream",
     "text": [
      "[ 0.28 13.   14.  ] corresponding to states:\n",
      " 13 :  n: 3, mn: 1, m1: 0, m2: 0 \n",
      " 14 :  n: 3, mn: 2, m1: 0, m2: 0\n",
      "[-0.29  1.    8.  ] corresponding to states:\n",
      " 1 :  n: 1, mn: -1, m1: 0, m2: 0 \n",
      " 8 :  n: 2, mn: 2, m1: 0, m2: 0\n",
      "[-0.29  8.    1.  ] corresponding to states:\n",
      " 8 :  n: 2, mn: 2, m1: 0, m2: 0 \n",
      " 1 :  n: 1, mn: -1, m1: 0, m2: 0\n",
      "[-0.29  3.    2.  ] corresponding to states:\n",
      " 3 :  n: 1, mn: 1, m1: 0, m2: 0 \n",
      " 2 :  n: 1, mn: 0, m1: 0, m2: 0\n",
      "[-0.29  2.    3.  ] corresponding to states:\n",
      " 2 :  n: 1, mn: 0, m1: 0, m2: 0 \n",
      " 3 :  n: 1, mn: 1, m1: 0, m2: 0\n",
      "[-0.3  7.   7. ] corresponding to states:\n",
      " 7 :  n: 2, mn: 1, m1: 0, m2: 0 \n",
      " 7 :  n: 2, mn: 1, m1: 0, m2: 0\n",
      "[0.35 9.   9.  ] corresponding to states:\n",
      " 9 :  n: 3, mn: -3, m1: 0, m2: 0 \n",
      " 9 :  n: 3, mn: -3, m1: 0, m2: 0\n",
      "[ 0.38 10.    8.  ] corresponding to states:\n",
      " 10 :  n: 3, mn: -2, m1: 0, m2: 0 \n",
      " 8 :  n: 2, mn: 2, m1: 0, m2: 0\n",
      "[ 0.38  8.   10.  ] corresponding to states:\n",
      " 8 :  n: 2, mn: 2, m1: 0, m2: 0 \n",
      " 10 :  n: 3, mn: -2, m1: 0, m2: 0\n",
      "[0.4 3.  3. ] corresponding to states:\n",
      " 3 :  n: 1, mn: 1, m1: 0, m2: 0 \n",
      " 3 :  n: 1, mn: 1, m1: 0, m2: 0\n",
      "[ 0.31 15.    8.  ] corresponding to states:\n",
      " 15 :  n: 3, mn: 3, m1: 0, m2: 0 \n",
      " 8 :  n: 2, mn: 2, m1: 0, m2: 0\n",
      "[ 0.31  8.   15.  ] corresponding to states:\n",
      " 8 :  n: 2, mn: 2, m1: 0, m2: 0 \n",
      " 15 :  n: 3, mn: 3, m1: 0, m2: 0\n",
      "[ 0.34 10.   10.  ] corresponding to states:\n",
      " 10 :  n: 3, mn: -2, m1: 0, m2: 0 \n",
      " 10 :  n: 3, mn: -2, m1: 0, m2: 0\n",
      "[-0.34 14.   14.  ] corresponding to states:\n",
      " 14 :  n: 3, mn: 2, m1: 0, m2: 0 \n",
      " 14 :  n: 3, mn: 2, m1: 0, m2: 0\n",
      "[-0.37  3.    2.  ] corresponding to states:\n",
      " 3 :  n: 1, mn: 1, m1: 0, m2: 0 \n",
      " 2 :  n: 1, mn: 0, m1: 0, m2: 0\n",
      "[-0.37  2.    3.  ] corresponding to states:\n",
      " 2 :  n: 1, mn: 0, m1: 0, m2: 0 \n",
      " 3 :  n: 1, mn: 1, m1: 0, m2: 0\n",
      "[-0.39  7.    0.  ] corresponding to states:\n",
      " 7 :  n: 2, mn: 1, m1: 0, m2: 0 \n",
      " 0 :  n: 0, mn: 0, m1: 0, m2: 0\n",
      "[-0.39  0.    7.  ] corresponding to states:\n",
      " 0 :  n: 0, mn: 0, m1: 0, m2: 0 \n",
      " 7 :  n: 2, mn: 1, m1: 0, m2: 0\n",
      "[-0.39  4.    4.  ] corresponding to states:\n",
      " 4 :  n: 2, mn: -2, m1: 0, m2: 0 \n",
      " 4 :  n: 2, mn: -2, m1: 0, m2: 0\n",
      "[0.42 7.   7.  ] corresponding to states:\n",
      " 7 :  n: 2, mn: 1, m1: 0, m2: 0 \n",
      " 7 :  n: 2, mn: 1, m1: 0, m2: 0\n"
     ]
    },
    {
     "name": "stderr",
     "output_type": "stream",
     "text": [
      "\n"
     ]
    }
   ],
   "source": [
    "dim = len(basis)\n",
    "dip_dip_matrix_1 = np.zeros((dim,dim))\n",
    "for i in tqdm(range(dim)):\n",
    "    for j in range(dim):\n",
    "        dip_dip_matrix_1[i][j] = dipole_dipole_matrix_elem(eigenvectors_1[i], eigenvectors_1[j], basis)\n",
    "dim = len(basis)\n",
    "dip_dip_matrix_2 = np.zeros((dim,dim))\n",
    "for i in tqdm(range(dim)):\n",
    "    for j in range(dim):\n",
    "        dip_dip_matrix_2[i][j] = dipole_dipole_matrix_elem(eigenvectors_2[i], eigenvectors_2[j], basis)\n",
    "\n",
    "top10trans_1 = [[0, 0, 0] for _ in range(10)]\n",
    "nmax = 3\n",
    "for i, row in enumerate(dip_dip_matrix_1):\n",
    "    for j, elem in enumerate(row):\n",
    "        if basis[i].n > nmax or basis[j].n > nmax:\n",
    "            continue\n",
    "        if abs(elem) > abs(top10trans_1[0][0]):\n",
    "            top10trans_1[0][0] = elem\n",
    "            top10trans_1[0][1] = i\n",
    "            top10trans_1[0][2] = j\n",
    "            top10trans_1 = sorted(top10trans_1, key=lambda x: abs(x[0]))\n",
    "for elem in np.around(top10trans_1,2):\n",
    "    print(elem, \"corresponding to states:\\n\", int(elem[1]), ': ', basis[int(elem[1])], \"\\n\", int(elem[2]), ': ', basis[int(elem[2])])\n",
    "    \n",
    "top10trans_2 = [[0, 0, 0] for _ in range(10)]\n",
    "nmax = 3\n",
    "\n",
    "for i, row in enumerate(dip_dip_matrix_2):\n",
    "    for j, elem in enumerate(row):\n",
    "        if basis[i].n > nmax or basis[j].n > nmax:\n",
    "            continue\n",
    "        if abs(elem) > abs(top10trans_2[0][0]):\n",
    "            top10trans_2[0][0] = elem\n",
    "            top10trans_2[0][1] = i\n",
    "            top10trans_2[0][2] = j\n",
    "            top10trans_2 = sorted(top10trans_2, key=lambda x: abs(x[0]))\n",
    "for elem in np.around(top10trans_2,2):\n",
    "    print(elem, \"corresponding to states:\\n\", int(elem[1]), ': ', basis[int(elem[1])], \"\\n\", int(elem[2]), ': ', basis[int(elem[2])])"
   ]
  },
  {
   "cell_type": "markdown",
   "metadata": {},
   "source": [
    "Let's arbitrarily chose states $\\ket{0}$ and $\\ket{1}$ for our qubit to be just eigenstates $0$ and $1$ of each molecule."
   ]
  },
  {
   "cell_type": "code",
   "execution_count": 10,
   "metadata": {},
   "outputs": [
    {
     "data": {
      "text/plain": [
       "Text(0.5, 1.0, 'Spectrum of each molecule')"
      ]
     },
     "execution_count": 10,
     "metadata": {},
     "output_type": "execute_result"
    },
    {
     "data": {
      "text/plain": [
       "<Figure size 640x480 with 0 Axes>"
      ]
     },
     "metadata": {},
     "output_type": "display_data"
    },
    {
     "data": {
      "image/png": "[encoded data removed]",
      "text/plain": [
       "<Figure size 1000x400 with 1 Axes>"
      ]
     },
     "metadata": {},
     "output_type": "display_data"
    }
   ],
   "source": [
    "plt.clf()\n",
    "fig, ax = plt.subplots(figsize=(10,4))\n",
    "\n",
    "energy_range = np.arange(eigenvalues_2[0], eigenvalues_2[-1], (eigenvalues_2[-1]-eigenvalues_2[0])/len(eigenvalues_2))\n",
    "plt.plot(energy_range*1e-6/h, np.zeros(len(energy_range)))\n",
    "\n",
    "start = True\n",
    "for val1 in eigenvalues_1:\n",
    "    if start:\n",
    "        ax.axvline(val1*1e-6/h, c='b', label = 'molecule at 10 kV/cm')\n",
    "        start = False\n",
    "    else:\n",
    "        ax.axvline(val1*1e-6/h)\n",
    "    \n",
    "start = True\n",
    "for val2 in eigenvalues_2:\n",
    "    if start:\n",
    "        ax.axvline(val2*1e-6/h, c='r', label = 'molecule at 6.78 kV/cm')\n",
    "        start = False\n",
    "    else:\n",
    "        ax.axvline(val2*1e-6/h, c='r')\n",
    "\n",
    "\n",
    "ax.axvspan(-17000, 0, color='green', alpha=0.5)\n",
    "ax.text(800, 0.5, 'Qubit zone')\n",
    "\n",
    "ax.get_yaxis().set_visible(False)\n",
    "ax.set_xlabel('Energy in MHz')\n",
    "ax.set_ylim(0,1)\n",
    "ax.set_xlim(-20000,10000)\n",
    "ax.legend()\n",
    "\n",
    "ax.set_title('Spectrum of each molecule')"
   ]
  },
  {
   "cell_type": "markdown",
   "metadata": {},
   "source": [
    "We need to find matrix of dip-dip int wrt:\n",
    "\n",
    "$\\ket{00} \\ket{01} \\ket{10} \\ket{11}$"
   ]
  },
  {
   "cell_type": "code",
   "execution_count": 11,
   "metadata": {},
   "outputs": [],
   "source": [
    "eigenstateind1 = 0\n",
    "eigenstateind2 = 1\n",
    "\n",
    "\n",
    "dip_int_q1 = [dipole_dipole_matrix_elem(eigenvectors_1[eigenstateind1], eigenvectors_1[eigenstateind1], basis), dipole_dipole_matrix_elem(eigenvectors_1[eigenstateind1], eigenvectors_1[eigenstateind2], basis), dipole_dipole_matrix_elem(eigenvectors_1[eigenstateind2], eigenvectors_1[eigenstateind2], basis)]\n",
    "\n",
    "dip_int_q2 = [dipole_dipole_matrix_elem(eigenvectors_2[eigenstateind1], eigenvectors_2[eigenstateind1], basis), dipole_dipole_matrix_elem(eigenvectors_2[eigenstateind1], eigenvectors_2[eigenstateind2], basis), dipole_dipole_matrix_elem(eigenvectors_2[eigenstateind2], eigenvectors_2[eigenstateind2], basis)]\n",
    "\n",
    "dip_matrix = np.array([\n",
    "    [dip_int_q1[0]*dip_int_q2[0], dip_int_q1[0]*dip_int_q2[1], dip_int_q1[1]*dip_int_q2[0], dip_int_q1[1]*dip_int_q2[1]],\n",
    "    [dip_int_q1[0]*dip_int_q2[1], dip_int_q1[0]*dip_int_q2[2], dip_int_q1[1]*dip_int_q2[1], dip_int_q1[1]*dip_int_q2[2]],\n",
    "    [dip_int_q1[1]*dip_int_q2[0], dip_int_q1[1]*dip_int_q2[1], dip_int_q1[2]*dip_int_q2[0], dip_int_q1[2]*dip_int_q2[1]],\n",
    "    [dip_int_q1[1]*dip_int_q2[1], dip_int_q1[1]*dip_int_q2[2], dip_int_q1[2]*dip_int_q2[1], dip_int_q1[2]*dip_int_q2[2]],\n",
    "                      ])"
   ]
  },
  {
   "cell_type": "markdown",
   "metadata": {},
   "source": [
    "# Examining Time Dependence of the 4-state System\n",
    "Namely of: $\\ket{00} \\ket{01} \\ket{10} \\ket{11}$"
   ]
  },
  {
   "cell_type": "code",
   "execution_count": 12,
   "metadata": {},
   "outputs": [
    {
     "name": "stdout",
     "output_type": "stream",
     "text": [
      "Dipole Dipole coupling elements for individual molecule states:\n",
      " [-0.   -0.25 -0.09] \n",
      " [ 0.    0.14 -0.08]\n",
      "Dipole Dipole coupling matrix between qubit states:\n",
      " [[-0.   -0.   -0.   -0.03]\n",
      " [-0.    0.   -0.03  0.02]\n",
      " [-0.   -0.03 -0.   -0.01]\n",
      " [-0.03  0.02 -0.01  0.01]]\n"
     ]
    }
   ],
   "source": [
    "print(\"Dipole Dipole coupling elements for individual molecule states:\\n\", np.around(dip_int_q1, 2), \"\\n\", np.around(dip_int_q2, 2))\n",
    "print(\"Dipole Dipole coupling matrix between qubit states:\\n\", np.around(dip_matrix,2))"
   ]
  },
  {
   "cell_type": "markdown",
   "metadata": {},
   "source": [
    "Ok; we have 4 states:\n",
    "\n",
    "$\\ket{00} \\ket{01} \\ket{10} \\ket{11}$\n",
    "\n",
    "We need to find $H_0$, $V_{dd}$, and also $H_{ij}(t) = \\bra{i} \\cos(\\theta_{mol})\\ket{j}$ in MHz."
   ]
  },
  {
   "cell_type": "code",
   "execution_count": 13,
   "metadata": {},
   "outputs": [
    {
     "data": {
      "text/plain": [
       "2.4473947928378257e-58"
      ]
     },
     "execution_count": 13,
     "metadata": {},
     "output_type": "execute_result"
    }
   ],
   "source": [
    "Na23Cs133[\"d0\"]**2"
   ]
  },
  {
   "cell_type": "code",
   "execution_count": 14,
   "metadata": {},
   "outputs": [
    {
     "data": {
      "text/plain": [
       "1.481847114721628e-31"
      ]
     },
     "execution_count": 14,
     "metadata": {},
     "output_type": "execute_result"
    }
   ],
   "source": [
    "bohr**3"
   ]
  },
  {
   "cell_type": "code",
   "execution_count": 16,
   "metadata": {},
   "outputs": [],
   "source": [
    "# note that the 1e-6/h factor is for the conversion\n",
    "# from Joules to MHz\n",
    "\n",
    "V_0 = np.array([\n",
    "    [eigenvalues_1[0] + eigenvalues_2[0], 0, 0, 0],\n",
    "    [0, eigenvalues_1[0] + eigenvalues_2[1], 0, 0],\n",
    "    [0, 0, eigenvalues_1[1] + eigenvalues_2[0], 0],\n",
    "    [0, 0, 0, eigenvalues_1[1] + eigenvalues_2[1]]\n",
    "    ])\n",
    "\n",
    "r_12 = 1*bohr \n",
    "V_dd = (Na23Cs133[\"d0\"]**2) * (1/r_12**3) * dip_matrix\n",
    "\n",
    "# |00> |01> |10> |11>\n",
    "V_t1 = np.array([\n",
    "    [dip_int_q1[0], 0, dip_int_q1[1], 0],\n",
    "    [0, dip_int_q1[0], 0, dip_int_q1[1]],\n",
    "    [dip_int_q1[1], 0, dip_int_q1[2], 0],\n",
    "    [0, dip_int_q1[1], 0, dip_int_q1[2]],\n",
    "                      ])\n",
    "\n",
    "# |00> |01> |10> |11>\n",
    "V_t2 = np.array([\n",
    "    [dip_int_q1[0], dip_int_q1[1], 0, 0],\n",
    "    [dip_int_q1[1], dip_int_q1[2], 0, 0],\n",
    "    [0, 0, dip_int_q1[0], dip_int_q1[1]],\n",
    "    [0, 0, dip_int_q1[1], dip_int_q1[2]],\n",
    "                      ])\n",
    "\n",
    "# our laser electric field strength, in V/m\n",
    "Laser_E = 1e4\n",
    "V_laser_1 = Laser_E * Na23Cs133[\"d0\"] * V_t1\n",
    "V_laser_2 = Laser_E * Na23Cs133[\"d0\"] * V_t2\n",
    "\n",
    "# lets start with a laser coupling the |00> |01> states\n",
    "# it has frequency equal to w_0 / hbar\n",
    "\n",
    "Laser_w_12 = (eigenvalues_2[1] - eigenvalues_2[0])*2*math.pi/h\n",
    "Laser_w_13 = (eigenvalues_1[1] - eigenvalues_1[0])*2*math.pi/h\n",
    "Laser_w_14 = (eigenvalues_1[1] + eigenvalues_2[1] - eigenvalues_1[0] + eigenvalues_2[0])*2*math.pi/h\n",
    "def laser_osc(t):\n",
    "    return np.cos(Laser_w_13*t) # This really seems unnecessary: + np.sin(Laser_w*t)*1j\n",
    "#V_laser = np.vectorize(V_laser)\n"
   ]
  },
  {
   "cell_type": "code",
   "execution_count": 27,
   "metadata": {},
   "outputs": [
    {
     "data": {
      "text/plain": [
       "array([[-9.99999999e-01,  4.00000000e-09, -1.37000000e-08,\n",
       "         4.49827000e-05],\n",
       "       [-2.20000000e-09, -9.99999885e-01, -4.76988600e-04,\n",
       "         3.98704000e-05],\n",
       "       [ 6.20000000e-09,  4.76982000e-04, -9.99999872e-01,\n",
       "        -1.66307400e-04],\n",
       "       [ 4.49827000e-05,  3.99497000e-05, -1.66288400e-04,\n",
       "         9.99999984e-01]])"
      ]
     },
     "execution_count": 27,
     "metadata": {},
     "output_type": "execute_result"
    }
   ],
   "source": [
    "eigenstateind1 = 0\n",
    "eigenstateind2 = 3\n",
    "\n",
    "\n",
    "dip_int_q1 = [dipole_dipole_matrix_elem(eigenvectors_1[eigenstateind1], eigenvectors_1[eigenstateind1], basis), dipole_dipole_matrix_elem(eigenvectors_1[eigenstateind1], eigenvectors_1[eigenstateind2], basis), dipole_dipole_matrix_elem(eigenvectors_1[eigenstateind2], eigenvectors_1[eigenstateind2], basis)]\n",
    "\n",
    "dip_int_q2 = [dipole_dipole_matrix_elem(eigenvectors_2[eigenstateind1], eigenvectors_2[eigenstateind1], basis), dipole_dipole_matrix_elem(eigenvectors_2[eigenstateind1], eigenvectors_2[eigenstateind2], basis), dipole_dipole_matrix_elem(eigenvectors_2[eigenstateind2], eigenvectors_2[eigenstateind2], basis)]\n",
    "\n",
    "dip_matrix_test = np.array([\n",
    "    [dip_int_q1[0]*dip_int_q2[0], dip_int_q1[0]*dip_int_q2[1], dip_int_q1[1]*dip_int_q2[0], dip_int_q1[1]*dip_int_q2[1]],\n",
    "    [dip_int_q1[0]*dip_int_q2[1], dip_int_q1[0]*dip_int_q2[2], dip_int_q1[1]*dip_int_q2[1], dip_int_q1[1]*dip_int_q2[2]],\n",
    "    [dip_int_q1[1]*dip_int_q2[0], dip_int_q1[1]*dip_int_q2[1], dip_int_q1[2]*dip_int_q2[0], dip_int_q1[2]*dip_int_q2[1]],\n",
    "    [dip_int_q1[1]*dip_int_q2[1], dip_int_q1[1]*dip_int_q2[2], dip_int_q1[2]*dip_int_q2[1], dip_int_q1[2]*dip_int_q2[2]],\n",
    "                      ])\n",
    "\n",
    "\n",
    "r_12 = 1000*bohr \n",
    "V_dd_test = (Na23Cs133[\"d0\"]**2) * (1/r_12**3) * dip_matrix_test / (4 * math.pi * eps0)\n",
    "np.around(np.linalg.eigh(V_0 + V_dd_test)[1],10)"
   ]
  },
  {
   "cell_type": "markdown",
   "metadata": {},
   "source": [
    "Let's now use scipy runge-kutta to see how the system evolves, starting in the $\\ket{00}$ state, with laser couping to the $\\ket{10}$ state. "
   ]
  },
  {
   "cell_type": "code",
   "execution_count": 18,
   "metadata": {},
   "outputs": [],
   "source": [
    "from scipy.integrate import solve_ivp\n",
    "import pylab"
   ]
  },
  {
   "cell_type": "code",
   "execution_count": 19,
   "metadata": {},
   "outputs": [],
   "source": [
    "def norm(x):\n",
    "    sum = 0\n",
    "    for elem in x:\n",
    "        sum += abs(elem)*abs(elem)\n",
    "    return sum"
   ]
  },
  {
   "cell_type": "markdown",
   "metadata": {},
   "source": [
    "Symplectic method. Renormalize. Higher order runge kutta, accurate but unstable."
   ]
  },
  {
   "cell_type": "code",
   "execution_count": 20,
   "metadata": {},
   "outputs": [],
   "source": [
    "def solve_ivp_renormed(func, t_span, y0, t_eval, method):\n",
    "    sol = np.array([])\n",
    "    y0 = y0\n",
    "    sol = np.append(sol, y0)\n",
    "    for i, elem in enumerate(t_eval[1:]):\n",
    "        #print(i)\n",
    "        \n",
    "        # solving over a single timestep using python solver\n",
    "        pysol = solve_ivp(func, t_eval[i:i+2], y0, method = method)\n",
    "        \n",
    "        #extracting and renormalizing solution from python solver solution\n",
    "        y0 = pysol.y.T[-1]\n",
    "        y0 = y0 / math.sqrt(norm(y0))\n",
    "        \n",
    "        # adding this solution point to our solution\n",
    "        sol = np.vstack((sol, y0))\n",
    "        \n",
    "        #renormalization\n",
    "        \n",
    "    return sol.T"
   ]
  },
  {
   "cell_type": "code",
   "execution_count": 28,
   "metadata": {},
   "outputs": [],
   "source": [
    "def rhs (t, psi):\n",
    "    system = V_0 + (V_laser_1+V_laser_2)*laser_osc(t)\n",
    "    dpsi_dt = np.dot(system, psi) * -1j * 2*math.pi / h\n",
    "    return dpsi_dt\n",
    "\n",
    "# We start in the |00> state\n",
    "psi_0 = [1+0j,0+0j,0+0j,0+0j]\n",
    "\n",
    "t0 = 0\n",
    "tfinal = 100e-9\n",
    "ts = np.linspace(t0, tfinal, 10000)\n",
    "\n",
    "sol = solve_ivp_renormed(rhs, [t0, tfinal], psi_0, t_eval=ts, method = 'DOP853')"
   ]
  },
  {
   "cell_type": "code",
   "execution_count": 29,
   "metadata": {},
   "outputs": [
    {
     "data": {
      "text/plain": [
       "<matplotlib.legend.Legend at 0x716f9008c510>"
      ]
     },
     "execution_count": 29,
     "metadata": {},
     "output_type": "execute_result"
    },
    {
     "data": {
      "image/png": "[encoded data removed]",
      "text/plain": [
       "<Figure size 800x400 with 1 Axes>"
      ]
     },
     "metadata": {},
     "output_type": "display_data"
    }
   ],
   "source": [
    "c_1 = sol[0]\n",
    "c_2 = sol[1]\n",
    "c_3 = sol[2]\n",
    "c_4 = sol[3]\n",
    "\n",
    "c_1_square = np.abs(c_1)**2\n",
    "c_2_square = np.abs(c_2)**2\n",
    "c_3_square = np.abs(c_3)**2\n",
    "c_4_square = np.abs(c_4)**2\n",
    "\n",
    "\n",
    "fig, ax = plt.subplots(figsize=(8,4))\n",
    "ax.plot(ts, c_1_square, 'y', label='c_1')\n",
    "ax.plot(ts, c_2_square, 'g', label='c_2')\n",
    "ax.plot(ts, c_3_square, 'b', label='c_3')\n",
    "ax.plot(ts, c_4_square, 'c', label='c_4')\n",
    "ax.axhline(1, c='k')\n",
    "ax.plot(ts, c_1_square+c_2_square+c_3_square+c_4_square, 'r', linestyle='--', label = 'normalization', alpha = 0.5)\n",
    "ax.legend()"
   ]
  },
  {
   "cell_type": "code",
   "execution_count": null,
   "metadata": {},
   "outputs": [],
   "source": []
  }
 ],
 "metadata": {
  "kernelspec": {
   "display_name": "base",
   "language": "python",
   "name": "python3"
  },
  "language_info": {
   "codemirror_mode": {
    "name": "ipython",
    "version": 3
   },
   "file_extension": ".py",
   "mimetype": "text/x-python",
   "name": "python",
   "nbconvert_exporter": "python",
   "pygments_lexer": "ipython3",
   "version": "3.11.7"
  }
 },
 "nbformat": 4,
 "nbformat_minor": 2
}
