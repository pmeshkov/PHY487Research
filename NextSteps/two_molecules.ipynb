{
 "cells": [
  {
   "cell_type": "markdown",
   "metadata": {},
   "source": [
    "# Setup"
   ]
  },
  {
   "cell_type": "code",
   "execution_count": 142,
   "metadata": {},
   "outputs": [],
   "source": [
    "import scipy\n",
    "import math\n",
    "import numpy as np\n",
    "from diagonalize import State, delta, neg_1_pow, Interaction, Molecule\n",
    "import matplotlib.pyplot as pyplot"
   ]
  },
  {
   "cell_type": "code",
   "execution_count": 143,
   "metadata": {},
   "outputs": [],
   "source": [
    "int_wigner_arr = np.load(\"wigner3j_integer_N=10.npy\")\n",
    "halfint_wigner_arr = np.load(\"wigner3j_halfint_N=3.5.npy\")\n",
    "\n",
    "def T_int(n3, n1, m3, m1, n2, m2, N=10):\n",
    "    m1_ = m1 + N\n",
    "    m2_ = m2 + 2\n",
    "    m3_ = m3 + N\n",
    "    \n",
    "    return m2_ + 5*n2 + 15*m1_ + (15 + 30*N)*m3_ + (15+ 60*N + 60*N*N)*n1 + (15 + 75*N + 120*N*N + 60 *N*N*N)*n3\n",
    "\n",
    "def T_half_int(n3, n1, m3, m1, n2, m2, N = 7/2):\n",
    "    n3 = n3 - 0.5 # 1/2, 3/2, 5/2, 7/2 -> 0, 1, 2, 3 (max is (N - 0.5))\n",
    "    n1 = n1 - 0.5 # 1/2, 3/2, 5/2, 7/2 -> 0, 1, 2, 3 (max is (N - 0.5))\n",
    "    \n",
    "    n2 = n2 # 0, 1, 2 (max is 2)\n",
    "    m2 = m2 + 2 # -2, -1, 0, 1, 2 -> 0, 1, 2, 3, 4 (max is 4)\n",
    "    \n",
    "    m3 = m3 + N # -7/2, -5/2, -3/2, -1/2, 1/2, 3/2, 5/2, 7/2 -> 0, 1, 2, 3, 4, 5, 6, 7 (max is N*2)\n",
    "    m1 = m1 + N # -7/2, -5/2, -3/2, -1/2, 1/2, 3/2, 5/2, 7/2 -> 0, 1, 2, 3, 4, 5, 6, 7 (max is N*2)\n",
    "    \n",
    "    # max: (4)    (4)+(2*5)    (4+2*5)+(15*N*2)    (4+2*5+15*N*2)+(15+30*N)*N*2   (4+2*5+15*N*2)+(15+30*N)*N*2 + (15+60*N+60*N*N)*(N-0.5)\n",
    "    return int(m2     + 5 * n2         + 15 * m1               + (15+30*N)*m3  + (15+60*N+60*N*N)*n1     + (60*N*N*N + 90*N*N + 45*N + 7.5)*n3)\n",
    "    \n",
    "def wigner_3j(n1, n2, n3, m1, m2, m3):\n",
    "    if n1 == int(n1):\n",
    "        return int_wigner_arr[T_int(n3,n1,m3,m1,n2,m2)]\n",
    "    return halfint_wigner_arr[T_half_int(n3,n1,m3,m1,n2,m2)]\n",
    "    "
   ]
  },
  {
   "cell_type": "code",
   "execution_count": 144,
   "metadata": {},
   "outputs": [],
   "source": [
    "h = scipy.constants.h\n",
    "muN = scipy.constants.physical_constants['nuclear magneton'][0]\n",
    "bohr = scipy.constants.physical_constants['Bohr radius'][0]\n",
    "eps0 = scipy.constants.epsilon_0\n",
    "c = scipy.constants.c\n",
    "DebyeSI = 3.33564e-30\n",
    "\n",
    "Na23Cs133 = {\"I1\":1.5,\n",
    "            \"I2\":3.5,\n",
    "            \"g1\":1.478,\n",
    "            \"g2\":0.738,\n",
    "            \"d0\":4.69*DebyeSI,\n",
    "            \"Brot\":0.058*c*100*h,\n",
    "            \"Drot\":0*h,\n",
    "            \"Q1\":-0.097e6*h,\n",
    "            \"Q2\":0.150e6*h,\n",
    "            \"C1\":14.2*h,\n",
    "            \"C2\":854.5*h,\n",
    "            \"C3\":105.6*h,\n",
    "            \"C4\":3941.8*h,\n",
    "            \"MuN\":0*muN,\n",
    "            \"Mu1\":1.478*muN,\n",
    "            \"Mu2\":0.738*muN,\n",
    "            \"a0\":0*h, #Not reported\n",
    "            \"a2\":0*h, #Not reported\n",
    "            \"Beta\":0}\n",
    "\n",
    "def rotational(state1: State, state2:State):\n",
    "    n, mn, m1, m2  = state1.get_state_vector()\n",
    "    n_, mn_, m1_, m2_  = state2.get_state_vector()\n",
    "\n",
    "    if delta(n, n_) and delta(mn, mn_) and delta(m1, m1_) and delta(m2, m2_):\n",
    "        return n*(n+1)\n",
    "    return 0\n",
    "\n",
    "def centrifugal(state1: State, state2:State):\n",
    "    n, mn, m1, m2  = state1.get_state_vector()\n",
    "    n_, mn_, m1_, m2_  = state2.get_state_vector()\n",
    "\n",
    "    if delta(n, n_) and delta(mn, mn_) and delta(m1, m1_) and delta(m2, m2_):\n",
    "        return -n*(n+1)**2\n",
    "    return 0\n",
    "\n",
    "def quad_Na(state1: State, state2:State):\n",
    "    i1 = 3/2\n",
    "    i2 = 7/2\n",
    "\n",
    "    n, mn, m1, m2  = state1.get_state_vector()\n",
    "    n_, mn_, m1_, m2_  = state2.get_state_vector()\n",
    "    \n",
    "    if not delta(m2, m2_):\n",
    "        return 0\n",
    "    \n",
    "    sum_term = 0\n",
    "    for p in range(-2,3):\n",
    "        wigp1 = wigner_3j(n, 2, n_, -mn, p, mn_)\n",
    "        wigp2 = wigner_3j(i1, 2, i1, -m1, -p, m1_)\n",
    "        sum_term += neg_1_pow(p) * wigp1 * wigp2\n",
    "    \n",
    "    if sum_term == 0:\n",
    "        return 0 \n",
    "        \n",
    "    wig3 = wigner_3j(n, 2, n_, 0, 0, 0)\n",
    "    if wig3 == 0:\n",
    "        return 0\n",
    "\n",
    "    wig4 = wigner_3j(i1, 2, i1, -i1, 0, i1)\n",
    "    if wig4 == 0:\n",
    "        raise(\"ArithmeticError; wigner coefficient is 0 but must be inverted\")\n",
    "    wig4 = 1.0/wig4\n",
    "    \n",
    "    other = neg_1_pow(-mn+i1-m1)*math.sqrt((2*n + 1) * (2*n_ + 1))/4\n",
    "\n",
    "    return sum_term * wig3 * wig4 * other\n",
    "\n",
    "def quad_Cs(state1:State, state2:State):\n",
    "    i1 = 3/2\n",
    "    i2 = 7/2\n",
    "\n",
    "    n, mn, m1, m2  = state1.get_state_vector()\n",
    "    n_, mn_, m1_, m2_  = state2.get_state_vector()\n",
    "    \n",
    "    if not delta(m1, m1_):\n",
    "        return 0\n",
    "    \n",
    "    sum_term = 0\n",
    "    for p in range(-2,3):\n",
    "        wigp1 = wigner_3j(n, 2, n_, -mn, p, mn_)\n",
    "        wigp2 = wigner_3j(i2, 2, i2, -m2, -p, m2_)\n",
    "        sum_term += neg_1_pow(p) * wigp1 * wigp2\n",
    "    \n",
    "    if sum_term == 0:\n",
    "        return 0 \n",
    "        \n",
    "    wig3 = wigner_3j(n, 2, n_, 0, 0, 0)\n",
    "    if wig3 == 0:\n",
    "        return 0\n",
    "\n",
    "    wig4 = wigner_3j(i2, 2, i2, -i2, 0, i2)\n",
    "    if wig4 == 0:\n",
    "        raise(\"ArithmeticError; wigner coefficient is 0 but must be inverted\")\n",
    "    wig4 = 1.0/wig4\n",
    "    \n",
    "    other = neg_1_pow(-mn+i2-m2)*math.sqrt((2*n + 1) * (2*n_ + 1))/4\n",
    "\n",
    "    return sum_term * wig3 * wig4 * other\n",
    "\n",
    "def spin_rot_Na(state1:State, state2:State):\n",
    "    i1 = 3/2\n",
    "    i2 = 7/2\n",
    "\n",
    "    n, mn, m1, m2  = state1.get_state_vector()\n",
    "    n_, mn_, m1_, m2_  = state2.get_state_vector()\n",
    "    \n",
    "    if not (delta(n, n_) and delta(m2, m2_)):\n",
    "        return 0\n",
    "    \n",
    "    sum_term = 0\n",
    "    for p in range(-1,2):\n",
    "        wigp1 = wigner_3j(n, 1, n, mn, p, -mn_)\n",
    "        wigp2 = wigner_3j(i1, 1, i1, m1, -p, -m1_)\n",
    "        sum_term += wigp1 * wigp2 * neg_1_pow(p)\n",
    "       \n",
    "    if sum_term == 0:\n",
    "        return 0\n",
    "        \n",
    "    other = neg_1_pow(n+mn_+i1+m1_) * math.sqrt(n * (n + 1) * (2*n + 1) * i1 * (i1 + 1) * (2*i1 + 1))\n",
    "    if other == 0:\n",
    "        return 0 \n",
    "\n",
    "    return sum_term * other\n",
    "\n",
    "def spin_rot_Cs(state1:State, state2:State):\n",
    "    i1 = 3/2\n",
    "    i2 = 7/2\n",
    "\n",
    "    n, mn, m1, m2  = state1.get_state_vector()\n",
    "    n_, mn_, m1_, m2_  = state2.get_state_vector()\n",
    "    \n",
    "    if not (delta(n, n_) and delta(m1, m1_)):\n",
    "        return 0\n",
    "    \n",
    "    other = neg_1_pow(n+mn_+i2+m2_) * math.sqrt(n * (n + 1) * (2*n + 1) * i2 * (i2 + 1) * (2*i2 + 1))\n",
    "    if other == 0:\n",
    "        return 0 \n",
    "    \n",
    "    sum_term = 0\n",
    "    for p in range(-1,2):\n",
    "        wigp1 = wigner_3j(n, 1, n, mn, p, -mn_)\n",
    "        wigp2 = wigner_3j(i2, 1, i2, m2, -p, -m2_)\n",
    "        sum_term += wigp1 * wigp2 * neg_1_pow(p)\n",
    "    \n",
    "    if sum_term == 0:\n",
    "        return 0\n",
    "\n",
    "    return sum_term * other\n",
    "\n",
    "def nuc_spin_spin(state1: State, state2:State):\n",
    "    i1 = 3/2\n",
    "    i2 = 7/2\n",
    "\n",
    "    n, mn, m1, m2  = state1.get_state_vector()\n",
    "    n_, mn_, m1_, m2_  = state2.get_state_vector()\n",
    "    \n",
    "    if not (delta(n, n_) and delta(mn, mn_)):\n",
    "        return 0\n",
    "    \n",
    "    other = neg_1_pow(i1+m1_+i2+m2_) * math.sqrt(i1 * (i1 + 1) * (2*i1 + 1) * i2 * (i2 + 1) * (2*i2 + 1))\n",
    "    \n",
    "    sum_term = 0\n",
    "    for p in range(-1,2):\n",
    "        wigp1 = wigner_3j(i1, 1, i1, m1, p, -m1_)\n",
    "        wigp2 = wigner_3j(i2, 1, i2, m2, -p, -m2_)\n",
    "        sum_term += wigp1 * wigp2 * neg_1_pow(p)\n",
    "    \n",
    "    if sum_term == 0:\n",
    "        return 0\n",
    "\n",
    "    return sum_term * other\n",
    "\n",
    "def nuc_spin_spin_dip(state1: State, state2:State):\n",
    "    i1 = 3/2\n",
    "    i2 = 7/2\n",
    "\n",
    "    n, mn, m1, m2  = state1.get_state_vector()\n",
    "    n_, mn_, m1_, m2_  = state2.get_state_vector()\n",
    "    \n",
    "    sqrtpart = -math.sqrt(30 * i1 * (i1 + 1) * (2*i1 + 1) * i2 * (i2 + 1) * (2*i2 + 1) * (2*n + 1) * (2*n_ + 1))\n",
    "    \n",
    "    negpart = neg_1_pow(i1 + i1 - m1 - m2 - mn)\n",
    "    \n",
    "    wig0 = wigner_3j(n, 2, n_, 0, 0, 0)\n",
    "    \n",
    "    sum = 0\n",
    "    \n",
    "    for p in range(-1,2):\n",
    "        wig1 = wigner_3j(i2, 1, i2, -m2, -p, m2)\n",
    "        \n",
    "        for p1 in range(-1,2):\n",
    "            for p2 in range(-1,2):\n",
    "                \n",
    "                wig2 = wigner_3j(n, 1, n_, -mn, p1, mn_)\n",
    "                wig3 = wigner_3j(i1, 1, i1, -m1, p2, m1_)\n",
    "                wig4 = wigner_3j(1, 2, 1, p1, p2, -p)\n",
    "        sum += wig1 * wig2 * wig3 * wig4\n",
    "        \n",
    "    if sum == 0:\n",
    "        return 0\n",
    "    \n",
    "    return sqrtpart * negpart * wig0 * sum\n",
    "\n",
    "def stark(state1: State, state2:State):\n",
    "    \n",
    "    n, mn, m1, m2  = state1.get_state_vector()\n",
    "    n_, mn_, m1_, m2_  = state2.get_state_vector()\n",
    "    \n",
    "    if not (delta(mn, mn_) and delta(m1, m1_) and delta(m2, m2_)):\n",
    "        return 0\n",
    "    \n",
    "    wig1 = wigner_3j(n, 1, n_, -mn, 0, mn)\n",
    "    if wig1 == 0:\n",
    "        return 0\n",
    "    \n",
    "    wig2 = wigner_3j(n, 1, n_, 0, 0, 0)\n",
    "    if wig2 == 0:\n",
    "        return 0\n",
    "    \n",
    "    other = -neg_1_pow(mn+m1+m2) * math.sqrt((2*n + 1) * (2*n_ + 1))\n",
    "    #print(state1,state2, other)\n",
    "    \n",
    "    return wig1 * wig2 * other\n",
    "\n",
    "    "
   ]
  },
  {
   "cell_type": "markdown",
   "metadata": {},
   "source": [
    "# Molecule Initialization"
   ]
  },
  {
   "cell_type": "code",
   "execution_count": 145,
   "metadata": {},
   "outputs": [],
   "source": [
    "from scipy.constants import physical_constants\n",
    "from scipy.constants import c\n",
    "from scipy.constants import epsilon_0\n",
    "\n",
    "int_rotational = Interaction(Na23Cs133[\"Brot\"], rotational)\n",
    "int_centrifugal = Interaction(Na23Cs133[\"Drot\"], centrifugal)\n",
    "int_quad_na = Interaction(Na23Cs133[\"Q1\"], quad_Na)\n",
    "int_quad_cs = Interaction(Na23Cs133[\"Q2\"], quad_Cs)\n",
    "\n",
    "const_nuc_spin_spin_dip = Na23Cs133[\"g1\"] * Na23Cs133[\"g2\"] * physical_constants[\"nuclear magneton\"][0]**2 / (4 * math.pi * epsilon_0 * c * c)\n",
    "int_nuc_spin_spin_dip = Interaction(const_nuc_spin_spin_dip, nuc_spin_spin_dip)\n",
    "int_nuc_spin_spin = Interaction(Na23Cs133[\"C4\"], nuc_spin_spin)\n",
    "int_spin_rot_Na = Interaction(Na23Cs133[\"C1\"], spin_rot_Na)\n",
    "int_spin_rot_Cs = Interaction(Na23Cs133[\"C2\"], spin_rot_Cs)\n",
    "int_stark = Interaction(Na23Cs133[\"d0\"], stark)"
   ]
  },
  {
   "cell_type": "code",
   "execution_count": 146,
   "metadata": {},
   "outputs": [
    {
     "name": "stdout",
     "output_type": "stream",
     "text": [
      "H has dim 1152\n"
     ]
    }
   ],
   "source": [
    "NaCs = Molecule([0,1,2,3,4,5], 3/2, 7/2)\n",
    "\n",
    "NaCs.add_interaction(int_rotational)\n",
    "#NaCs.add_interaction(int_centrifugal)\n",
    "NaCs.add_interaction(int_quad_na)\n",
    "NaCs.add_interaction(int_quad_cs)\n",
    "NaCs.add_interaction(int_nuc_spin_spin)\n",
    "NaCs.add_interaction(int_nuc_spin_spin_dip)\n",
    "NaCs.add_interaction(int_spin_rot_Na)\n",
    "NaCs.add_interaction(int_spin_rot_Cs)\n",
    "NaCs.add_changing_interaction(int_stark)"
   ]
  },
  {
   "cell_type": "code",
   "execution_count": 147,
   "metadata": {},
   "outputs": [],
   "source": [
    "NaCs.find_H_zero()\n",
    "NaCs.find_H_prime()\n",
    "\n",
    "E_range = np.linspace(0, 10, int(60)) * 1e5\n",
    "eigenvalues_and_eigenvectors = NaCs.compute_eigenval_over_range([E_range])\n",
    "eigenvalues_to_plot = []\n",
    "for elem in eigenvalues_and_eigenvectors:\n",
    "    eigenvalues_to_plot.append(np.sort(elem[0].copy())[:])\n",
    "myenergies = np.array(eigenvalues_to_plot)"
   ]
  },
  {
   "cell_type": "code",
   "execution_count": 192,
   "metadata": {},
   "outputs": [
    {
     "name": "stdout",
     "output_type": "stream",
     "text": [
      "Electric field values ct: 60 \n",
      "Eigenvalue/Eigenvector tuples count 1152\n"
     ]
    }
   ],
   "source": [
    "print(\"Electric field values ct:\", len(eigenvalues_and_eigenvectors), \"\\nEigenvalue/Eigenvector tuples count\", len(eigenvalues_and_eigenvectors[0][0]))"
   ]
  },
  {
   "cell_type": "markdown",
   "metadata": {},
   "source": [
    "# Eigenvectors of the appropriate states for a quantum gate"
   ]
  },
  {
   "cell_type": "markdown",
   "metadata": {},
   "source": [
    "First, let's chose certain electric field values in the range of our electric field strengths. We select these to be large enough to ensure pendular states, but at the same time different enough from each other so that the states $\\ket{0 1}$ and $\\ket{1 0}$ are distinguishable."
   ]
  },
  {
   "cell_type": "code",
   "execution_count": 188,
   "metadata": {},
   "outputs": [
    {
     "name": "stdout",
     "output_type": "stream",
     "text": [
      "State a is at E = 593220.3389830509 kV/cm\n",
      "State b is at E = 1000000.0 kV/cm\n"
     ]
    }
   ],
   "source": [
    "print(\"State a is at E =\", E_range[35], \"kV/cm\")\n",
    "print(\"State b is at E =\", E_range[59], \"kV/cm\")"
   ]
  },
  {
   "cell_type": "markdown",
   "metadata": {},
   "source": [
    "Now, let's ensure that the eigenvalues are in an appropriate order, for these particular field strengths."
   ]
  },
  {
   "cell_type": "code",
   "execution_count": 156,
   "metadata": {},
   "outputs": [],
   "source": [
    "valuesa, vectorsa = eigenvalues_and_eigenvectors[35]\n",
    "prevval = -100000000\n",
    "for value in valuesa:\n",
    "    if value < prevval:\n",
    "        print(\"ordering error\")\n",
    "    prevval = value\n",
    "\n",
    "valuesb, vectorsb = eigenvalues_and_eigenvectors[59]\n",
    "prevval = -100000000\n",
    "for value in valuesb:\n",
    "    if value < prevval:\n",
    "        print(\"ordering error\")\n",
    "    prevval = value"
   ]
  },
  {
   "cell_type": "markdown",
   "metadata": {},
   "source": [
    "Ok, they are in order. Now, we can find the eigenvectors corresponding to **n=0 and n=1**. Those are the ones with eigenvalues less than **7000 MHz**. We start by counting how many such eigenvectors there are."
   ]
  },
  {
   "cell_type": "code",
   "execution_count": 157,
   "metadata": {},
   "outputs": [
    {
     "name": "stdout",
     "output_type": "stream",
     "text": [
      "a 128\n",
      "b 128\n"
     ]
    }
   ],
   "source": [
    "counteigenveca = 0\n",
    "for value in valuesa:\n",
    "    if value*1e-6/h < 4000:\n",
    "        counteigenveca += 1\n",
    "print(\"a\", counteigenveca)\n",
    "\n",
    "counteigenvecb = 0\n",
    "for value in valuesb:\n",
    "    if value*1e-6/h < 4000:\n",
    "        counteigenvecb += 1\n",
    "print(\"b\", counteigenvecb)"
   ]
  },
  {
   "cell_type": "markdown",
   "metadata": {},
   "source": [
    "There are **128** such eigenvectors; as the eigenvalues are all in order, they are just the first **128** eigenvectors in the respective eigenvector arrays above. But now it is important to differentiate what is $\\ket{0}_a$ and $\\ket{1}_a$ and same for $\\ket{0}_b$ and $\\ket{1}_b$. We will do taking note of the boundaries observed on the following plot."
   ]
  },
  {
   "cell_type": "code",
   "execution_count": 167,
   "metadata": {},
   "outputs": [
    {
     "data": {
      "text/plain": [
       "<matplotlib.legend.Legend at 0x7247fed8c650>"
      ]
     },
     "execution_count": 167,
     "metadata": {},
     "output_type": "execute_result"
    },
    {
     "data": {
      "application/vnd.jupyter.widget-view+json": {
       "model_id": "5ddb727bd21a402992e609fd33b64252",
       "version_major": 2,
       "version_minor": 0
      },
      "image/png": "[encoded data removed]",
      "text/html": [
       "\n",
       "            <div style=\"display: inline-block;\">\n",
       "                <div class=\"jupyter-widgets widget-label\" style=\"text-align: center;\">\n",
       "                    Figure\n",
       "                </div>\n",
       "                <img src='data:image/png;base64,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' width=800.0/>\n",
       "            </div>\n",
       "        "
      ],
      "text/plain": [
       "Canvas(toolbar=Toolbar(toolitems=[('Home', 'Reset original view', 'home', 'home'), ('Back', 'Back to previous …"
      ]
     },
     "metadata": {},
     "output_type": "display_data"
    }
   ],
   "source": [
    "%matplotlib ipympl\n",
    "\n",
    "pyplot.close()\n",
    "\n",
    "fig, ax = pyplot.subplots(figsize=(8, 5))\n",
    "\n",
    "ax.plot(E_range*1e-5, myenergies[:,:]*1e-6/h, color='b', linewidth=0.5)\n",
    "ax.set_ylim(-12000, 10000)\n",
    "\n",
    "ax.axhline(y=4000, color='g', linestyle='--', label='Line above which we dont care')\n",
    "ax.axhline(y=500, color='y', linestyle='--', label='Reference Energy boundary 1')\n",
    "ax.axhline(y=-7000, color='y', linestyle='--', label='Reference Energy boundary 0')\n",
    "\n",
    "ax.axvline(x=E_range[35]*1e-5, color='r', linestyle='--', label='Reference Line E-field 35')\n",
    "ax.axvline(x=E_range[59]*1e-5, color='r', linestyle='--', label='Reference Line E-field 59')\n",
    "\n",
    "ax.text(8.5, 6000, \"zone |1>\")\n",
    "ax.text(8.5, -7000, \"zone |0>\")\n",
    "\n",
    "ax.set_ylabel(\"My Energy/h (MHz)\")\n",
    "ax.set_xlabel(\"Electric Field (kV/cm)\")\n",
    "\n",
    "ax.legend()"
   ]
  },
  {
   "cell_type": "markdown",
   "metadata": {},
   "source": [
    "Note that for a large dipole-dipole interaction, we want a large difference in $\\frac{dE}{dF}$ between the different states $\\ket{0}$ $\\ket{1}$. I have no clue why; **this needs citation and understanding**, but Jesus told me so. So we don't really care about the line in between reference lines $0$ and $1$. \n",
    "\n",
    "Now, let's actually get those states! We need to start by counting..."
   ]
  },
  {
   "cell_type": "code",
   "execution_count": 168,
   "metadata": {},
   "outputs": [
    {
     "name": "stdout",
     "output_type": "stream",
     "text": [
      "32\n",
      "32\n"
     ]
    }
   ],
   "source": [
    "counteigenvec_0_a = 0\n",
    "\n",
    "for val in valuesa:\n",
    "    if val*1e-6/h < -7000:\n",
    "        counteigenvec_0_a += 1\n",
    "print(counteigenvec_0_a)\n",
    "\n",
    "counteigenvec_0_b = 0\n",
    "\n",
    "for val in valuesb:\n",
    "    if val*1e-6/h < -7000:\n",
    "        counteigenvec_0_b += 1\n",
    "print(counteigenvec_0_b)"
   ]
  },
  {
   "cell_type": "code",
   "execution_count": 172,
   "metadata": {},
   "outputs": [
    {
     "name": "stdout",
     "output_type": "stream",
     "text": [
      "96\n",
      "96\n"
     ]
    }
   ],
   "source": [
    "counteigenvec_1_a = 0\n",
    "\n",
    "for val in valuesa:\n",
    "    if val*1e-6/h < 500:\n",
    "        counteigenvec_1_a += 1\n",
    "print(counteigenvec_1_a)\n",
    "\n",
    "counteigenvec_1_b = 0\n",
    "\n",
    "for val in valuesb:\n",
    "    if val*1e-6/h < 500:\n",
    "        counteigenvec_1_b += 1\n",
    "print(counteigenvec_1_b)"
   ]
  },
  {
   "cell_type": "markdown",
   "metadata": {},
   "source": [
    "To recount these counts (lol), eigenvectors $0$ through $31$ (inclusive) will correspond to $\\ket{0}$ and those from $96$ through $127$ (inclusive) will correspond to $\\ket{1}$. Now we can just make all the arrays necessary for future analysis."
   ]
  },
  {
   "cell_type": "code",
   "execution_count": 179,
   "metadata": {},
   "outputs": [],
   "source": [
    "states_0_a = vectorsa[:32]\n",
    "energies_0_a = valuesa[:32]\n",
    "\n",
    "states_0_b = vectorsb[:32]\n",
    "energies_0_b = valuesb[:32]\n",
    "\n",
    "states_1_a = vectorsa[96:128]\n",
    "energies_1_a = valuesa[96:128]\n",
    "\n",
    "states_1_b = vectorsb[96:128]\n",
    "energies_1_b = valuesb[96:128]"
   ]
  },
  {
   "cell_type": "code",
   "execution_count": 184,
   "metadata": {},
   "outputs": [
    {
     "name": "stdout",
     "output_type": "stream",
     "text": [
      "State |0>b is -15442.897558926492 MHz\n",
      "State |0>a is -7930.790746624561 MHz\n",
      "State |1>b is 707.5208040686215 MHz\n",
      "State |1>a is 3915.177797673826 MHz\n"
     ]
    }
   ],
   "source": [
    "print(\"State |0>b is\", energies_0_b[0]*1e-6/h, \"MHz\")\n",
    "\n",
    "print(\"State |0>a is\", energies_0_a[0]*1e-6/h, \"MHz\")\n",
    "\n",
    "print(\"State |1>b is\", energies_1_b[0]*1e-6/h, \"MHz\")\n",
    "\n",
    "print(\"State |1>a is\", energies_1_a[0]*1e-6/h, \"MHz\")"
   ]
  },
  {
   "cell_type": "code",
   "execution_count": 171,
   "metadata": {},
   "outputs": [],
   "source": [
    "def dipole_dipole(statea : State, statea_ : State, stateb : State, stateb_ : State):\n",
    "    na, mna, m1a, m2a  = statea.get_state_vector()\n",
    "    na_, mna_, m1a_, m2a_  = statea_.get_state_vector()\n",
    "    nb, mnb, m1b, m2b  = stateb.get_state_vector()\n",
    "    nb_, mnb_, m1b_, m2b_  = stateb_.get_state_vector()\n",
    "    \n",
    "    deltapart = delta(m1a, m1a_) * deltapart(m2a, m2a_) * delta(m1b, m1b_) * deltapart(m2b, m2b_)\n",
    "    if deltapart == 0:\n",
    "        return 0\n",
    "\n",
    "    wig0 = wigner_3j(na_, 1, na, 0, 0, 0)\n",
    "    if wig0 == 0:\n",
    "        return 0\n",
    "    wig1 = wigner_3j(na_, 1, na, mna_, 0, mna)\n",
    "    if wig1 == 0:\n",
    "        return 0\n",
    "    wig2 = wigner_3j(nb_, 1, nb, 0, 0, 0)\n",
    "    if wig2 == 0:\n",
    "        return 0\n",
    "    wig3 = wigner_3j(nb_, 1, nb, mnb_, 0, mnb)\n",
    "    if wig3 == 0:\n",
    "        return 0\n",
    "    \n",
    "    sqrtpart = np.sqrt((2*na + 1) * (2*na_+1) * (2*nb+1) * (2*nb_+1))\n",
    "    \n",
    "    return wig0 * wig1 * wig2 * wig3 * sqrtpart    "
   ]
  },
  {
   "cell_type": "code",
   "execution_count": 196,
   "metadata": {},
   "outputs": [
    {
     "name": "stdout",
     "output_type": "stream",
     "text": [
      "check\n",
      "check\n"
     ]
    },
    {
     "ename": "KeyboardInterrupt",
     "evalue": "",
     "output_type": "error",
     "traceback": [
      "\u001b[0;31m---------------------------------------------------------------------------\u001b[0m",
      "\u001b[0;31mKeyboardInterrupt\u001b[0m                         Traceback (most recent call last)",
      "Cell \u001b[0;32mIn[196], line 5\u001b[0m\n\u001b[1;32m      3\u001b[0m \u001b[38;5;28;01mif\u001b[39;00m ct \u001b[38;5;241m%\u001b[39m \u001b[38;5;241m1000000000\u001b[39m \u001b[38;5;241m==\u001b[39m \u001b[38;5;241m0\u001b[39m:\n\u001b[1;32m      4\u001b[0m     \u001b[38;5;28mprint\u001b[39m(\u001b[38;5;124m\"\u001b[39m\u001b[38;5;124mcheck\u001b[39m\u001b[38;5;124m\"\u001b[39m)\n\u001b[0;32m----> 5\u001b[0m ct \u001b[38;5;241m+\u001b[39m\u001b[38;5;241m=\u001b[39m\u001b[38;5;241m1\u001b[39m\n",
      "\u001b[0;31mKeyboardInterrupt\u001b[0m: "
     ]
    }
   ],
   "source": [
    "# takes a minute thirty to run 1/1000\n",
    "ct = 0\n",
    "for i in range(1000**4):\n",
    "    if ct % 1000000000 == 0:\n",
    "        print(\"check\")\n",
    "    ct +=1"
   ]
  },
  {
   "cell_type": "code",
   "execution_count": null,
   "metadata": {},
   "outputs": [],
   "source": [
    "def compute_dipole_dipole(eigenvec1, eigenvec2, basisStates):\n",
    "    V_dd = 0\n",
    "    for ia, statea_ in enumerate(basisStates):\n",
    "        for ib, stateb_ in enumerate(basisStates):\n",
    "            for ja, statea in enumerate(basisStates):\n",
    "                for jb, statea in enumerate(basisStates):\n",
    "                    "
   ]
  },
  {
   "cell_type": "code",
   "execution_count": null,
   "metadata": {},
   "outputs": [],
   "source": []
  }
 ],
 "metadata": {
  "kernelspec": {
   "display_name": "base",
   "language": "python",
   "name": "python3"
  },
  "language_info": {
   "codemirror_mode": {
    "name": "ipython",
    "version": 3
   },
   "file_extension": ".py",
   "mimetype": "text/x-python",
   "name": "python",
   "nbconvert_exporter": "python",
   "pygments_lexer": "ipython3",
   "version": "3.11.7"
  }
 },
 "nbformat": 4,
 "nbformat_minor": 2
}
