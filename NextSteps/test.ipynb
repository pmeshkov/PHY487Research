{
 "cells": [
  {
   "cell_type": "code",
   "execution_count": 1,
   "metadata": {},
   "outputs": [],
   "source": [
    "import hamiltonian\n",
    "import numpy as np\n",
    "from tqdm import tqdm\n",
    "int_wigner_arr = np.load(\"wigner3j_integer_N=10.npy\")\n",
    "halfint_wigner_arr = np.load(\"wigner3j_halfint_N=3.5.npy\")"
   ]
  },
  {
   "cell_type": "code",
   "execution_count": 2,
   "metadata": {},
   "outputs": [
    {
     "name": "stdout",
     "output_type": "stream",
     "text": [
      "H has dim 121\n"
     ]
    }
   ],
   "source": [
    "NaCs = hamiltonian.Hamiltonian(range(11), 0, 0, int_wigner_arr, halfint_wigner_arr)\n",
    "basis = NaCs.states\n",
    "E_range = np.linspace(0, 10, int(60)) * 1e5"
   ]
  },
  {
   "cell_type": "code",
   "execution_count": 7,
   "metadata": {},
   "outputs": [],
   "source": [
    "eigenvalues_and_eigenvectors_E_1 = NaCs.solveNaCs(E_range[-1:])\n",
    "NaCs.reset()\n",
    "eigenvalues_and_eigenvectors_E_2 = NaCs.solveNaCs(E_range[-20:-19])\n",
    "NaCs.reset()"
   ]
  },
  {
   "cell_type": "code",
   "execution_count": 8,
   "metadata": {},
   "outputs": [
    {
     "name": "stdout",
     "output_type": "stream",
     "text": [
      "eigenvalues_and_eigenvectors_E_1 corresponds to E = 10.0 [kV/cm]\n",
      "eigenvalues_and_eigenvectors_E_2 corresponds to E = 6.78 [kV/cm]\n"
     ]
    }
   ],
   "source": [
    "E_range = np.linspace(0, 10, int(60)) * 1e5\n",
    "print(\"eigenvalues_and_eigenvectors_E_1 corresponds to E =\",np.round(E_range[-1:][0]/1e5,2),'[kV/cm]')\n",
    "print(\"eigenvalues_and_eigenvectors_E_2 corresponds to E =\",np.round(E_range[-20:-19][0]/1e5,2),'[kV/cm]')# not actually taking the first element; eigenvalues_and_eigenvectors_E_* is an array of tuples\n",
    "eigenvalues_1, eigenvectors_1 = eigenvalues_and_eigenvectors_E_1[0]\n",
    "eigenvalues_2, eigenvectors_2 = eigenvalues_and_eigenvectors_E_2[0]\n",
    "basis = NaCs.states"
   ]
  },
  {
   "cell_type": "code",
   "execution_count": 5,
   "metadata": {},
   "outputs": [
    {
     "name": "stderr",
     "output_type": "stream",
     "text": [
      "  0%|          | 0/121 [00:00<?, ?it/s]"
     ]
    },
    {
     "name": "stderr",
     "output_type": "stream",
     "text": [
      "  0%|          | 0/121 [00:12<?, ?it/s]\n"
     ]
    },
    {
     "ename": "KeyboardInterrupt",
     "evalue": "",
     "output_type": "error",
     "traceback": [
      "\u001b[0;31m---------------------------------------------------------------------------\u001b[0m",
      "\u001b[0;31mKeyboardInterrupt\u001b[0m                         Traceback (most recent call last)",
      "Cell \u001b[0;32mIn[5], line 5\u001b[0m\n\u001b[1;32m      3\u001b[0m \u001b[38;5;28;01mfor\u001b[39;00m i \u001b[38;5;129;01min\u001b[39;00m tqdm(\u001b[38;5;28mrange\u001b[39m(dim)):\n\u001b[1;32m      4\u001b[0m     \u001b[38;5;28;01mfor\u001b[39;00m j \u001b[38;5;129;01min\u001b[39;00m \u001b[38;5;28mrange\u001b[39m(dim):\n\u001b[0;32m----> 5\u001b[0m         dip_dip_matrix_1[i][j] \u001b[38;5;241m=\u001b[39m hamiltonian\u001b[38;5;241m.\u001b[39mHamiltonian\u001b[38;5;241m.\u001b[39mdipole_dipole_matrix_elem(eigenvectors_1[i], eigenvectors_1[j], basis)\n\u001b[1;32m      6\u001b[0m dim \u001b[38;5;241m=\u001b[39m \u001b[38;5;28mlen\u001b[39m(basis)\n\u001b[1;32m      7\u001b[0m dip_dip_matrix_2 \u001b[38;5;241m=\u001b[39m np\u001b[38;5;241m.\u001b[39mzeros((dim,dim))\n",
      "File \u001b[0;32m~/PHY487Research/NextSteps/hamiltonian.py:329\u001b[0m, in \u001b[0;36mHamiltonian.dipole_dipole_matrix_elem\u001b[0;34m(evec1, evec2, basis)\u001b[0m\n\u001b[1;32m    327\u001b[0m \u001b[38;5;28;01mfor\u001b[39;00m i, a \u001b[38;5;129;01min\u001b[39;00m \u001b[38;5;28menumerate\u001b[39m(evec1):\n\u001b[1;32m    328\u001b[0m     \u001b[38;5;28;01mfor\u001b[39;00m j, b \u001b[38;5;129;01min\u001b[39;00m \u001b[38;5;28menumerate\u001b[39m(evec2):\n\u001b[0;32m--> 329\u001b[0m         value \u001b[38;5;241m+\u001b[39m\u001b[38;5;241m=\u001b[39m a \u001b[38;5;241m*\u001b[39m b \u001b[38;5;241m*\u001b[39m InteractionTypes\u001b[38;5;241m.\u001b[39mstark(basis[i], basis[j])\n\u001b[1;32m    330\u001b[0m \u001b[38;5;28;01mreturn\u001b[39;00m value\n",
      "File \u001b[0;32m~/PHY487Research/NextSteps/hamiltonian.py:529\u001b[0m, in \u001b[0;36mInteractionTypes.stark\u001b[0;34m(state1, state2)\u001b[0m\n\u001b[1;32m    526\u001b[0m \u001b[38;5;28;01mif\u001b[39;00m wig1 \u001b[38;5;241m==\u001b[39m \u001b[38;5;241m0\u001b[39m:\n\u001b[1;32m    527\u001b[0m     \u001b[38;5;28;01mreturn\u001b[39;00m \u001b[38;5;241m0\u001b[39m\n\u001b[0;32m--> 529\u001b[0m wig2 \u001b[38;5;241m=\u001b[39m wigner_3j(n, \u001b[38;5;241m1\u001b[39m, n_, \u001b[38;5;241m0\u001b[39m, \u001b[38;5;241m0\u001b[39m, \u001b[38;5;241m0\u001b[39m)\n\u001b[1;32m    530\u001b[0m \u001b[38;5;28;01mif\u001b[39;00m wig2 \u001b[38;5;241m==\u001b[39m \u001b[38;5;241m0\u001b[39m:\n\u001b[1;32m    531\u001b[0m     \u001b[38;5;28;01mreturn\u001b[39;00m \u001b[38;5;241m0\u001b[39m\n",
      "File \u001b[0;32m~/anaconda3/lib/python3.11/site-packages/sympy/physics/wigner.py:242\u001b[0m, in \u001b[0;36mwigner_3j\u001b[0;34m(j_1, j_2, j_3, m_1, m_2, m_3)\u001b[0m\n\u001b[1;32m    239\u001b[0m sumres \u001b[38;5;241m=\u001b[39m \u001b[38;5;241m0\u001b[39m\n\u001b[1;32m    240\u001b[0m \u001b[38;5;28;01mfor\u001b[39;00m ii \u001b[38;5;129;01min\u001b[39;00m \u001b[38;5;28mrange\u001b[39m(\u001b[38;5;28mint\u001b[39m(imin), \u001b[38;5;28mint\u001b[39m(imax) \u001b[38;5;241m+\u001b[39m \u001b[38;5;241m1\u001b[39m):\n\u001b[1;32m    241\u001b[0m     den \u001b[38;5;241m=\u001b[39m _Factlist[ii] \u001b[38;5;241m*\u001b[39m \\\n\u001b[0;32m--> 242\u001b[0m         _Factlist[\u001b[38;5;28mint\u001b[39m(ii \u001b[38;5;241m+\u001b[39m j_3 \u001b[38;5;241m-\u001b[39m j_1 \u001b[38;5;241m-\u001b[39m m_2)] \u001b[38;5;241m*\u001b[39m \\\n\u001b[1;32m    243\u001b[0m         _Factlist[\u001b[38;5;28mint\u001b[39m(j_2 \u001b[38;5;241m+\u001b[39m m_2 \u001b[38;5;241m-\u001b[39m ii)] \u001b[38;5;241m*\u001b[39m \\\n\u001b[1;32m    244\u001b[0m         _Factlist[\u001b[38;5;28mint\u001b[39m(j_1 \u001b[38;5;241m-\u001b[39m ii \u001b[38;5;241m-\u001b[39m m_1)] \u001b[38;5;241m*\u001b[39m \\\n\u001b[1;32m    245\u001b[0m         _Factlist[\u001b[38;5;28mint\u001b[39m(ii \u001b[38;5;241m+\u001b[39m j_3 \u001b[38;5;241m-\u001b[39m j_2 \u001b[38;5;241m+\u001b[39m m_1)] \u001b[38;5;241m*\u001b[39m \\\n\u001b[1;32m    246\u001b[0m         _Factlist[\u001b[38;5;28mint\u001b[39m(j_1 \u001b[38;5;241m+\u001b[39m j_2 \u001b[38;5;241m-\u001b[39m j_3 \u001b[38;5;241m-\u001b[39m ii)]\n\u001b[1;32m    247\u001b[0m     sumres \u001b[38;5;241m=\u001b[39m sumres \u001b[38;5;241m+\u001b[39m Integer((\u001b[38;5;241m-\u001b[39m\u001b[38;5;241m1\u001b[39m) \u001b[38;5;241m*\u001b[39m\u001b[38;5;241m*\u001b[39m ii) \u001b[38;5;241m/\u001b[39m den\n\u001b[1;32m    249\u001b[0m res \u001b[38;5;241m=\u001b[39m ressqrt \u001b[38;5;241m*\u001b[39m sumres \u001b[38;5;241m*\u001b[39m prefid\n",
      "\u001b[0;31mKeyboardInterrupt\u001b[0m: "
     ]
    }
   ],
   "source": [
    "dim = len(basis)\n",
    "dip_dip_matrix_1 = np.zeros((dim,dim))\n",
    "for i in tqdm(range(dim)):\n",
    "    for j in range(dim):\n",
    "        dip_dip_matrix_1[i][j] = hamiltonian.Hamiltonian.dipole_dipole_matrix_elem(eigenvectors_1[i], eigenvectors_1[j], basis)\n",
    "dim = len(basis)\n",
    "dip_dip_matrix_2 = np.zeros((dim,dim))\n",
    "for i in tqdm(range(dim)):\n",
    "    for j in range(dim):\n",
    "        dip_dip_matrix_2[i][j] = hamiltonian.Hamiltonian.dipole_dipole_matrix_elem(eigenvectors_2[i], eigenvectors_2[j], basis)"
   ]
  },
  {
   "cell_type": "code",
   "execution_count": null,
   "metadata": {},
   "outputs": [],
   "source": []
  }
 ],
 "metadata": {
  "kernelspec": {
   "display_name": "base",
   "language": "python",
   "name": "python3"
  },
  "language_info": {
   "codemirror_mode": {
    "name": "ipython",
    "version": 3
   },
   "file_extension": ".py",
   "mimetype": "text/x-python",
   "name": "python",
   "nbconvert_exporter": "python",
   "pygments_lexer": "ipython3",
   "version": "3.11.7"
  }
 },
 "nbformat": 4,
 "nbformat_minor": 2
}
