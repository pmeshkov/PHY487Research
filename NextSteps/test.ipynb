{
 "cells": [
  {
   "cell_type": "markdown",
   "metadata": {},
   "source": [
    "# Setup"
   ]
  },
  {
   "cell_type": "code",
   "execution_count": 128,
   "metadata": {},
   "outputs": [],
   "source": [
    "import scipy\n",
    "import math\n",
    "import numpy as np\n",
    "from diagonalize import State, delta, neg_1_pow, Interaction, Molecule\n",
    "from sympy.physics.wigner import wigner_3j as sym_wigner_3j\n",
    "import matplotlib.pyplot as pyplot"
   ]
  },
  {
   "cell_type": "code",
   "execution_count": 129,
   "metadata": {},
   "outputs": [],
   "source": [
    "arr = np.load(\"jennoid.npy\")\n",
    "def T(n3, n1, m3, m1, n2, m2, N=10):\n",
    "    m1_ = m1 + N\n",
    "    m2_ = m2 + 2\n",
    "    m3_ = m3 + N\n",
    "    \n",
    "    return m2_ + 5*n2 + 15*m1_ + (15 + 30*N)*m3_ + (15+ 60*N + 60*N*N)*n1 + (15 + 75*N + 120*N*N + 60 *N*N*N)*n3\n",
    "    \n",
    "def wigner_3j(n1, n2, n3, m1, m2, m3):\n",
    "    return arr[T(n3,n1,m3,m1,n2,m2)]"
   ]
  },
  {
   "cell_type": "code",
   "execution_count": 130,
   "metadata": {},
   "outputs": [],
   "source": [
    "h = scipy.constants.h\n",
    "muN = scipy.constants.physical_constants['nuclear magneton'][0]\n",
    "bohr = scipy.constants.physical_constants['Bohr radius'][0]\n",
    "eps0 = scipy.constants.epsilon_0\n",
    "c = scipy.constants.c\n",
    "DebyeSI = 3.33564e-30\n",
    "\n",
    "Na23Cs133 = {\"I1\":1.5,\n",
    "            \"I2\":3.5,\n",
    "            \"g1\":1.478,\n",
    "            \"g2\":0.738,\n",
    "            \"d0\":4.69*DebyeSI,\n",
    "            \"Brot\":0.058*c*100*h,\n",
    "            \"Drot\":0*h,\n",
    "            \"Q1\":-0.097e6*h,\n",
    "            \"Q2\":0.150e6*h,\n",
    "            \"C1\":14.2*h,\n",
    "            \"C2\":854.5*h,\n",
    "            \"C3\":105.6*h,\n",
    "            \"C4\":3941.8*h,\n",
    "            \"MuN\":0*muN,\n",
    "            \"Mu1\":1.478*muN,\n",
    "            \"Mu2\":0.738*muN,\n",
    "            \"a0\":0*h, #Not reported\n",
    "            \"a2\":0*h, #Not reported\n",
    "            \"Beta\":0}\n",
    "\n",
    "def rotational(state1: State, state2:State):\n",
    "    n, mn, m1, m2  = state1.get_state_vector()\n",
    "    n_, mn_, m1_, m2_  = state2.get_state_vector()\n",
    "\n",
    "    if delta(n, n_) and delta(mn, mn_) and delta(m1, m1_) and delta(m2, m2_):\n",
    "        return n*(n+1)\n",
    "    return 0\n",
    "\n",
    "def centrifugal(state1: State, state2:State):\n",
    "    n, mn, m1, m2  = state1.get_state_vector()\n",
    "    n_, mn_, m1_, m2_  = state2.get_state_vector()\n",
    "\n",
    "    if delta(n, n_) and delta(mn, mn_) and delta(m1, m1_) and delta(m2, m2_):\n",
    "        return -n*(n+1)**2\n",
    "    return 0\n",
    "\n",
    "def quad_Na(state1: State, state2:State):\n",
    "    i1 = 3/2\n",
    "    i2 = 7/2\n",
    "\n",
    "    n, mn, m1, m2  = state1.get_state_vector()\n",
    "    n_, mn_, m1_, m2_  = state2.get_state_vector()\n",
    "    \n",
    "    if not delta(m2, m2_):\n",
    "        return 0\n",
    "    \n",
    "    sum_term = 0\n",
    "    for p in range(-2,3):\n",
    "        wigp1 = wigner_3j(n, 2, n_, -mn, p, mn_)\n",
    "        wigp2 = sym_wigner_3j(i1, 2, i1, -m1, -p, m1_)\n",
    "        sum_term += neg_1_pow(p) * wigp1 * wigp2\n",
    "    \n",
    "    if sum_term == 0:\n",
    "        return 0 \n",
    "        \n",
    "    wig3 = wigner_3j(n, 2, n_, 0, 0, 0)\n",
    "    if wig3 == 0:\n",
    "        return 0\n",
    "\n",
    "    wig4 = sym_wigner_3j(i1, 2, i1, -i1, 0, i1)\n",
    "    if wig4 == 0:\n",
    "        raise(\"ArithmeticError; wigner coefficient is 0 but must be inverted\")\n",
    "    wig4 = 1.0/wig4\n",
    "    \n",
    "    other = neg_1_pow(-mn+i1-m1)*math.sqrt((2*n + 1) * (2*n_ + 1))/4\n",
    "\n",
    "    return sum_term * wig3 * wig4 * other\n",
    "\n",
    "def quad_Cs(state1:State, state2:State):\n",
    "    i1 = 3/2\n",
    "    i2 = 7/2\n",
    "\n",
    "    n, mn, m1, m2  = state1.get_state_vector()\n",
    "    n_, mn_, m1_, m2_  = state2.get_state_vector()\n",
    "    \n",
    "    if not delta(m1, m1_):\n",
    "        return 0\n",
    "    \n",
    "    sum_term = 0\n",
    "    for p in range(-2,3):\n",
    "        wigp1 = wigner_3j(n, 2, n_, -mn, p, mn_)\n",
    "        wigp2 = sym_wigner_3j(i2, 2, i2, -m2, -p, m2_)\n",
    "        sum_term += neg_1_pow(p) * wigp1 * wigp2\n",
    "    \n",
    "    if sum_term == 0:\n",
    "        return 0 \n",
    "        \n",
    "    wig3 = wigner_3j(n, 2, n_, 0, 0, 0)\n",
    "    if wig3 == 0:\n",
    "        return 0\n",
    "\n",
    "    wig4 = sym_wigner_3j(i2, 2, i2, -i2, 0, i2)\n",
    "    if wig4 == 0:\n",
    "        raise(\"ArithmeticError; wigner coefficient is 0 but must be inverted\")\n",
    "    wig4 = 1.0/wig4\n",
    "    \n",
    "    other = neg_1_pow(-mn+i2-m2)*math.sqrt((2*n + 1) * (2*n_ + 1))/4\n",
    "\n",
    "    return sum_term * wig3 * wig4 * other\n",
    "\n",
    "def spin_rot_Na(state1:State, state2:State):\n",
    "    i1 = 3/2\n",
    "    i2 = 7/2\n",
    "\n",
    "    n, mn, m1, m2  = state1.get_state_vector()\n",
    "    n_, mn_, m1_, m2_  = state2.get_state_vector()\n",
    "    \n",
    "    if not (delta(n, n_) and delta(m2, m2_)):\n",
    "        return 0\n",
    "    \n",
    "    sum_term = 0\n",
    "    for p in range(-1,2):\n",
    "        wigp1 = wigner_3j(n, 1, n, mn, p, -mn_)\n",
    "        wigp2 = sym_wigner_3j(i1, 1, i1, m1, -p, -m1_)\n",
    "        sum_term += wigp1 * wigp2 * neg_1_pow(p)\n",
    "       \n",
    "    if sum_term == 0:\n",
    "        return 0\n",
    "        \n",
    "    other = neg_1_pow(n+mn_+i1+m1_) * math.sqrt(n * (n + 1) * (2*n + 1) * i1 * (i1 + 1) * (2*i1 + 1))\n",
    "    if other == 0:\n",
    "        return 0 \n",
    "\n",
    "    return sum_term * other\n",
    "\n",
    "def spin_rot_Cs(state1:State, state2:State):\n",
    "    i1 = 3/2\n",
    "    i2 = 7/2\n",
    "\n",
    "    n, mn, m1, m2  = state1.get_state_vector()\n",
    "    n_, mn_, m1_, m2_  = state2.get_state_vector()\n",
    "    \n",
    "    if not (delta(n, n_) and delta(m1, m1_)):\n",
    "        return 0\n",
    "    \n",
    "    other = neg_1_pow(n+mn_+i2+m2_) * math.sqrt(n * (n + 1) * (2*n + 1) * i2 * (i2 + 1) * (2*i2 + 1))\n",
    "    if other == 0:\n",
    "        return 0 \n",
    "    \n",
    "    sum_term = 0\n",
    "    for p in range(-1,2):\n",
    "        wigp1 = wigner_3j(n, 1, n, mn, p, -mn_)\n",
    "        wigp2 = sym_wigner_3j(i2, 1, i2, m2, -p, -m2_)\n",
    "        sum_term += wigp1 * wigp2 * neg_1_pow(p)\n",
    "    \n",
    "    if sum_term == 0:\n",
    "        return 0\n",
    "\n",
    "    return sum_term * other\n",
    "\n",
    "def nuc_spin_spin(state1: State, state2:State):\n",
    "    i1 = 3/2\n",
    "    i2 = 7/2\n",
    "\n",
    "    n, mn, m1, m2  = state1.get_state_vector()\n",
    "    n_, mn_, m1_, m2_  = state2.get_state_vector()\n",
    "    \n",
    "    if not (delta(n, n_) and delta(mn, mn_)):\n",
    "        return 0\n",
    "    \n",
    "    other = neg_1_pow(i1+m1_+i2+m2_) * math.sqrt(i1 * (i1 + 1) * (2*i1 + 1) * i2 * (i2 + 1) * (2*i2 + 1))\n",
    "    \n",
    "    sum_term = 0\n",
    "    for p in range(-1,2):\n",
    "        wigp1 = sym_wigner_3j(i1, 1, i1, m1, p, -m1_)\n",
    "        wigp2 = sym_wigner_3j(i2, 1, i2, m2, -p, -m2_)\n",
    "        sum_term += wigp1 * wigp2 * neg_1_pow(p)\n",
    "    \n",
    "    if sum_term == 0:\n",
    "        return 0\n",
    "\n",
    "    return sum_term * other\n",
    "\n",
    "def nuc_spin_spin_dip(state1: State, state2:State):\n",
    "    i1 = 3/2\n",
    "    i2 = 7/2\n",
    "\n",
    "    n, mn, m1, m2  = state1.get_state_vector()\n",
    "    n_, mn_, m1_, m2_  = state2.get_state_vector()\n",
    "    \n",
    "    sqrtpart = -math.sqrt(30 * i1 * (i1 + 1) * (2*i1 + 1) * i2 * (i2 + 1) * (2*i2 + 1) * (2*n + 1) * (2*n_ + 1))\n",
    "    \n",
    "    negpart = neg_1_pow(i1 + i1 - m1 - m2 - mn)\n",
    "    \n",
    "    wig0 = wigner_3j(n, 2, n_, 0, 0, 0)\n",
    "    \n",
    "    sum = 0\n",
    "    \n",
    "    for p in range(-1,2):\n",
    "        wig1 = sym_wigner_3j(i2, 1, i2, -m2, -p, m2)\n",
    "        \n",
    "        for p1 in range(-1,2):\n",
    "            for p2 in range(-1,2):\n",
    "                \n",
    "                wig2 = wigner_3j(n, 1, n_, -mn, p1, mn_)\n",
    "                wig3 = sym_wigner_3j(i1, 1, i1, -m1, p2, m1_)\n",
    "                wig4 = sym_wigner_3j(1, 2, 1, p1, p2, -p)\n",
    "        sum += wig1 * wig2 * wig3 * wig4\n",
    "        \n",
    "    if sum == 0:\n",
    "        return 0\n",
    "    \n",
    "    return sqrtpart * negpart * wig0 * sum\n",
    "\n",
    "def stark(state1: State, state2:State):\n",
    "    \n",
    "    n, mn, m1, m2  = state1.get_state_vector()\n",
    "    n_, mn_, m1_, m2_  = state2.get_state_vector()\n",
    "    \n",
    "    if not (delta(mn, mn_) and delta(m1, m1_) and delta(m2, m2_)):\n",
    "        return 0\n",
    "    \n",
    "    wig1 = wigner_3j(n, 1, n_, -mn, 0, mn)\n",
    "    if wig1 == 0:\n",
    "        return 0\n",
    "    \n",
    "    wig2 = wigner_3j(n, 1, n_, 0, 0, 0)\n",
    "    if wig2 == 0:\n",
    "        return 0\n",
    "    \n",
    "    other = -neg_1_pow(mn+m1+m2) * math.sqrt((2*n + 1) * (2*n_ + 1))\n",
    "    #print(state1,state2, other)\n",
    "    \n",
    "    return wig1 * wig2 * other\n",
    "\n",
    "    "
   ]
  },
  {
   "cell_type": "markdown",
   "metadata": {},
   "source": [
    "# Molecule Initialization"
   ]
  },
  {
   "cell_type": "code",
   "execution_count": 131,
   "metadata": {},
   "outputs": [],
   "source": [
    "from scipy.constants import physical_constants\n",
    "from scipy.constants import c\n",
    "from scipy.constants import epsilon_0\n",
    "\n",
    "int_rotational = Interaction(Na23Cs133[\"Brot\"], rotational)\n",
    "int_centrifugal = Interaction(Na23Cs133[\"Drot\"], centrifugal)\n",
    "int_quad_na = Interaction(Na23Cs133[\"Q1\"], quad_Na)\n",
    "int_quad_cs = Interaction(Na23Cs133[\"Q2\"], quad_Cs)\n",
    "\n",
    "const_nuc_spin_spin_dip = Na23Cs133[\"g1\"] * Na23Cs133[\"g2\"] * physical_constants[\"nuclear magneton\"][0]**2 / (4 * math.pi * epsilon_0 * c * c)\n",
    "int_nuc_spin_spin_dip = Interaction(const_nuc_spin_spin_dip, nuc_spin_spin_dip)\n",
    "int_nuc_spin_spin = Interaction(Na23Cs133[\"C4\"], nuc_spin_spin)\n",
    "int_spin_rot_Na = Interaction(Na23Cs133[\"C1\"], spin_rot_Na)\n",
    "int_spin_rot_Cs = Interaction(Na23Cs133[\"C2\"], spin_rot_Cs)\n",
    "int_stark = Interaction(Na23Cs133[\"d0\"], stark)"
   ]
  },
  {
   "cell_type": "code",
   "execution_count": 132,
   "metadata": {},
   "outputs": [
    {
     "name": "stdout",
     "output_type": "stream",
     "text": [
      "H has dim 288\n"
     ]
    }
   ],
   "source": [
    "NaCs = Molecule([0,1,2], 3/2, 7/2)\n",
    "\n",
    "NaCs.add_interaction(int_rotational)\n",
    "#NaCs.add_interaction(int_centrifugal)\n",
    "NaCs.add_interaction(int_quad_na)\n",
    "NaCs.add_interaction(int_quad_cs)\n",
    "NaCs.add_interaction(int_nuc_spin_spin)\n",
    "NaCs.add_interaction(int_nuc_spin_spin_dip)\n",
    "NaCs.add_interaction(int_spin_rot_Na)\n",
    "NaCs.add_interaction(int_spin_rot_Cs)\n",
    "NaCs.add_changing_interaction(int_stark)"
   ]
  },
  {
   "cell_type": "code",
   "execution_count": 133,
   "metadata": {},
   "outputs": [],
   "source": [
    "NaCs.find_H_zero()\n",
    "NaCs.find_H_prime()\n",
    "\n",
    "E_range = np.linspace(0, 5, int(60)) * 1e5\n",
    "eigenvalues_and_eigenvectors = NaCs.compute_eigenval_over_range([E_range])\n",
    "eigenvalues_to_plot = []\n",
    "for elem in eigenvalues_and_eigenvectors:\n",
    "    eigenvalues_to_plot.append(np.sort(np.real_if_close(elem[0].copy()))[:])\n",
    "myenergies = np.array(eigenvalues_to_plot)"
   ]
  },
  {
   "cell_type": "markdown",
   "metadata": {},
   "source": [
    "# Working"
   ]
  },
  {
   "cell_type": "code",
   "execution_count": 134,
   "metadata": {},
   "outputs": [
    {
     "data": {
      "text/plain": [
       "Text(0, 0.5, 'My Energy/h (MHz)')"
      ]
     },
     "execution_count": 134,
     "metadata": {},
     "output_type": "execute_result"
    },
    {
     "data": {
      "application/vnd.jupyter.widget-view+json": {
       "model_id": "3efe0ac341994b249ad8497a109ed745",
       "version_major": 2,
       "version_minor": 0
      },
      "image/png": "[encoded data removed]",
      "text/html": [
       "\n",
       "            <div style=\"display: inline-block;\">\n",
       "                <div class=\"jupyter-widgets widget-label\" style=\"text-align: center;\">\n",
       "                    Figure\n",
       "                </div>\n",
       "                <img src='data:image/png;base64,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' width=800.0/>\n",
       "            </div>\n",
       "        "
      ],
      "text/plain": [
       "Canvas(toolbar=Toolbar(toolitems=[('Home', 'Reset original view', 'home', 'home'), ('Back', 'Back to previous …"
      ]
     },
     "metadata": {},
     "output_type": "display_data"
    }
   ],
   "source": [
    "%matplotlib ipympl\n",
    "\n",
    "pyplot.close()\n",
    "\n",
    "fig, ax = pyplot.subplots(figsize=(8, 5))\n",
    "\n",
    "ax.plot(E_range*1e-5, myenergies[:,:]*1e-6/h, color='b', linewidth=0.5)\n",
    "ax.set_ylabel(\"My Energy/h (MHz)\")\n"
   ]
  },
  {
   "cell_type": "code",
   "execution_count": 57,
   "metadata": {},
   "outputs": [],
   "source": [
    "def T(n3, n1, m3, m1, n2, m2, N=10):\n",
    "    m1_ = m1 + N\n",
    "    m2_ = m2 + 2\n",
    "    m3_ = m3 + N\n",
    "    \n",
    "    return m2_ + 5*n2 + 15*m1_ + (15 + 30*N)*m3_ + (15+ 60*N + 60*N*N)*n1 + (15 + 75*N + 120*N*N + 60 *N*N*N)*n3"
   ]
  },
  {
   "cell_type": "code",
   "execution_count": 58,
   "metadata": {},
   "outputs": [
    {
     "data": {
      "text/plain": [
       "800415"
      ]
     },
     "execution_count": 58,
     "metadata": {},
     "output_type": "execute_result"
    }
   ],
   "source": [
    "11*11*21*21*3*5"
   ]
  },
  {
   "cell_type": "code",
   "execution_count": 60,
   "metadata": {},
   "outputs": [
    {
     "name": "stdout",
     "output_type": "stream",
     "text": [
      "800415\n",
      "800414\n",
      "800414\n"
     ]
    }
   ],
   "source": [
    "N = 10\n",
    "prevvec = [0, 0, 0, -10, -2, -10]\n",
    "prevval = -1\n",
    "count = 0\n",
    "valmax = 0\n",
    "for n3 in range(0, N+1):\n",
    "    for n1 in range(0, N+1):\n",
    "        for m3 in range(-N, N+1):\n",
    "            for m1 in range(-N, N+1):\n",
    "                for n2 in range(0, 3):\n",
    "                    for m2 in range(-2,3):\n",
    "                        count += 1\n",
    "                        val = T(n3, n1, m3, m1, n2, m2)\n",
    "                        if val != prevval + 1:\n",
    "                            print(\"Break in order\")\n",
    "                            print(prevvec)\n",
    "                            print([n3, n1, m3, m1, n2, m2])\n",
    "                            print(prevval, val)\n",
    "                        prevval = val\n",
    "                        prevvec = [n3, n1, m3, m1, n2, m2]\n",
    "                        if val > valmax:\n",
    "                            valmax = val\n",
    "print(count)\n",
    "print(val)\n",
    "print(valmax)"
   ]
  },
  {
   "cell_type": "code",
   "execution_count": 68,
   "metadata": {},
   "outputs": [],
   "source": [
    "np.save(\"jennoid.npy\", [0,1,2,3,4,5,6,7]*100000)"
   ]
  },
  {
   "cell_type": "code",
   "execution_count": 71,
   "metadata": {},
   "outputs": [],
   "source": [
    "arr = np.load(\"jennoid.npy\")\n"
   ]
  },
  {
   "cell_type": "code",
   "execution_count": 73,
   "metadata": {},
   "outputs": [
    {
     "data": {
      "text/plain": [
       "800415"
      ]
     },
     "execution_count": 73,
     "metadata": {},
     "output_type": "execute_result"
    }
   ],
   "source": [
    "arr.size"
   ]
  },
  {
   "cell_type": "code",
   "execution_count": 81,
   "metadata": {},
   "outputs": [
    {
     "name": "stdout",
     "output_type": "stream",
     "text": [
      "sqrt(3)/3\n",
      "0.5773502691896257\n"
     ]
    }
   ],
   "source": [
    "n1, n2, n3, m1, m2, m3 = 1, 0, 1, -1, 0, 1\n"
   ]
  },
  {
   "cell_type": "code",
   "execution_count": 90,
   "metadata": {},
   "outputs": [],
   "source": [
    "for i in range(1000000):\n",
    "    wigner_3j(n1,n2,n3,m1,m2,m3)"
   ]
  },
  {
   "cell_type": "code",
   "execution_count": 91,
   "metadata": {},
   "outputs": [],
   "source": [
    "for i in range(1000000):\n",
    "    arr[T(n3,n1,m3,m1,n2,m2)]"
   ]
  },
  {
   "cell_type": "code",
   "execution_count": 95,
   "metadata": {},
   "outputs": [
    {
     "name": "stdout",
     "output_type": "stream",
     "text": [
      "False\n"
     ]
    }
   ],
   "source": [
    "disagree = False\n",
    "for n3 in range(0, N+1):\n",
    "    for n1 in range(0, N+1):\n",
    "        for m3 in range(-N, N+1):\n",
    "            for m1 in range(-N, N+1):\n",
    "                for n2 in range(0, 3):\n",
    "                    for m2 in range(-2,3):\n",
    "                        if abs(wigner_3j(n1,n2,n3,m1,m2,m3) - arr[T(n3,n1,m3,m1,n2,m2)]) > 0.0000001:\n",
    "                            disagree = True\n",
    "print(disagree)"
   ]
  },
  {
   "cell_type": "code",
   "execution_count": null,
   "metadata": {},
   "outputs": [],
   "source": []
  }
 ],
 "metadata": {
  "kernelspec": {
   "display_name": "base",
   "language": "python",
   "name": "python3"
  },
  "language_info": {
   "codemirror_mode": {
    "name": "ipython",
    "version": 3
   },
   "file_extension": ".py",
   "mimetype": "text/x-python",
   "name": "python",
   "nbconvert_exporter": "python",
   "pygments_lexer": "ipython3",
   "version": "3.11.7"
  }
 },
 "nbformat": 4,
 "nbformat_minor": 2
}
