{
 "cells": [
  {
   "cell_type": "code",
   "execution_count": 212,
   "metadata": {},
   "outputs": [
    {
     "name": "stdout",
     "output_type": "stream",
     "text": [
      "H has dim 25\n"
     ]
    }
   ],
   "source": [
    "import math\n",
    "import numpy as np\n",
    "from diagonalize import State, delta, neg_1_pow, Interaction, Molecule\n",
    "import matplotlib.pyplot as plt\n",
    "from tqdm import tqdm\n",
    "from scipy.integrate import solve_ivp\n",
    "\n",
    "int_wigner_arr = np.load(\"wigner3j_integer_N=10.npy\")\n",
    "halfint_wigner_arr = np.load(\"wigner3j_halfint_N=3.5.npy\")\n",
    "\n",
    "def T_int(n3, n1, m3, m1, n2, m2, N=10):\n",
    "    m1_ = m1 + N\n",
    "    m2_ = m2 + 2\n",
    "    m3_ = m3 + N\n",
    "    \n",
    "    return m2_ + 5*n2 + 15*m1_ + (15 + 30*N)*m3_ + (15+ 60*N + 60*N*N)*n1 + (15 + 75*N + 120*N*N + 60 *N*N*N)*n3\n",
    "\n",
    "def T_half_int(n3, n1, m3, m1, n2, m2, N = 7/2):\n",
    "    n3 = n3 - 0.5 \n",
    "    n1 = n1 - 0.5 \n",
    "    \n",
    "    n2 = n2\n",
    "    m2 = m2 + 2 \n",
    "    \n",
    "    m3 = m3 + N \n",
    "    m1 = m1 + N \n",
    "    \n",
    "    return int(m2     + 5 * n2         + 15 * m1               + (15+30*N)*m3  + (15+60*N+60*N*N)*n1     + (60*N*N*N + 90*N*N + 45*N + 7.5)*n3)\n",
    "    \n",
    "def wigner_3j(n1, n2, n3, m1, m2, m3):\n",
    "    if n1 == int(n1) and n2 == int(n2) and n3 == int(n3):\n",
    "        return int_wigner_arr[T_int(n3,n1,m3,m1,n2,m2)]\n",
    "    return halfint_wigner_arr[T_half_int(n3,n1,m3,m1,n2,m2)]\n",
    "\n",
    "from scipy.constants import fine_structure as alpha\n",
    "Na23Cs133 = {\"I1\":1.5,\n",
    "            \"I2\":3.5,\n",
    "            \"g1\":1.478,\n",
    "            \"g2\":0.738,\n",
    "            \"d0\":4.69,\n",
    "            \"Brot\":0.058*alpha*100,\n",
    "            \"Drot\":0,\n",
    "            \"Q1\":-0.097e6,\n",
    "            \"Q2\":0.150e6,\n",
    "            \"C1\":14.2,\n",
    "            \"C2\":854.5,\n",
    "            \"C3\":105.6,\n",
    "            \"C4\":3941.8,\n",
    "            \"MuN\":0*0.5, #0.5 is bohr magneton\n",
    "            \"Mu1\":1.478*0.5,\n",
    "            \"Mu2\":0.738*0.5,\n",
    "            \"a0\":0, #Not reported\n",
    "            \"a2\":0, #Not reported\n",
    "            \"Beta\":0}\n",
    "\n",
    "def rotational(state1: State, state2:State):\n",
    "    n, mn, m1, m2  = state1.get_state_vector()\n",
    "    n_, mn_, m1_, m2_  = state2.get_state_vector()\n",
    "\n",
    "    if delta(n, n_) and delta(mn, mn_) and delta(m1, m1_) and delta(m2, m2_):\n",
    "        return n*(n+1)\n",
    "    return 0\n",
    "\n",
    "def stark(state1: State, state2:State):\n",
    "    \n",
    "    n, mn, m1, m2  = state1.get_state_vector()\n",
    "    n_, mn_, m1_, m2_  = state2.get_state_vector()\n",
    "    \n",
    "    if not (delta(mn, mn_) and delta(m1, m1_) and delta(m2, m2_)):\n",
    "        return 0\n",
    "    \n",
    "    wig1 = wigner_3j(n, 1, n_, -mn, 0, mn)\n",
    "    if wig1 == 0:\n",
    "        return 0\n",
    "    \n",
    "    wig2 = wigner_3j(n, 1, n_, 0, 0, 0)\n",
    "    if wig2 == 0:\n",
    "        return 0\n",
    "    \n",
    "    other = -neg_1_pow(mn+m1+m2) * math.sqrt((2*n + 1) * (2*n_ + 1))\n",
    "    return wig1 * wig2 * other\n",
    "\n",
    "int_rotational = Interaction(Na23Cs133['Brot'], rotational)\n",
    "int_stark = Interaction(Na23Cs133['d0'], stark)\n",
    "\n",
    "N = 4\n",
    "NaCs = Molecule(range(N+1), 0, 0)\n",
    "NaCs.add_interaction(int_rotational)\n",
    "NaCs.add_changing_interaction(int_stark)\n",
    "\n",
    "NaCs.find_H_zero()\n",
    "NaCs.find_H_prime()\n",
    "\n",
    "E_range = np.linspace(0, 10, int(60))\n",
    "eigenvalues_and_eigenvectors_E_1 = NaCs.compute_eigenval_over_range([E_range[-1:]])\n",
    "eigenvalues_and_eigenvectors_E_2 = NaCs.compute_eigenval_over_range([E_range[-20:-19]])\n",
    "\n",
    "eigenvalues_1, eigenvectors_1 = eigenvalues_and_eigenvectors_E_1[0]\n",
    "eigenvalues_2, eigenvectors_2 = eigenvalues_and_eigenvectors_E_2[0]\n",
    "basis = NaCs.states\n",
    "\n",
    "def dipole_dipole_matrix_elem(evec1, evec2, basis):\n",
    "    if (len(evec1) != len(evec2) or len(evec1) != len(basis)):\n",
    "        raise('ArithmeticError')\n",
    "    else:\n",
    "        value = 0\n",
    "        for i, a in enumerate(evec1):\n",
    "            for j, b in enumerate(evec2):\n",
    "                value += a * b * stark(basis[i], basis[j])\n",
    "        return value\n",
    "\n"
   ]
  },
  {
   "cell_type": "code",
   "execution_count": 213,
   "metadata": {},
   "outputs": [
    {
     "name": "stdout",
     "output_type": "stream",
     "text": [
      "25 625\n"
     ]
    }
   ],
   "source": [
    "one_mol_basis_size = (N+1)**2\n",
    "full_basis_size = (N+1)**4\n",
    "print(one_mol_basis_size, full_basis_size)"
   ]
  },
  {
   "cell_type": "code",
   "execution_count": 214,
   "metadata": {},
   "outputs": [],
   "source": [
    "eigenvalues_q = np.zeros(full_basis_size)\n",
    "states1 = np.zeros(full_basis_size)\n",
    "states2 = np.zeros(full_basis_size)\n",
    "for s1 in range(one_mol_basis_size):\n",
    "    for s2 in range(one_mol_basis_size):\n",
    "        q = s1*one_mol_basis_size + s2\n",
    "        eigenvalues_q[q] = eigenvalues_1[s1]+eigenvalues_2[s2]\n",
    "        states1[q] = s1\n",
    "        states2[q] = s2\n",
    "\n",
    "states_q = np.zeros((full_basis_size, 3))\n",
    "for i in range(full_basis_size):\n",
    "    states_q[i] = np.array([eigenvalues_q[i], states1[i], states2[i]])\n",
    "states_q = np.array(sorted(states_q, key = lambda x: x[0]))"
   ]
  },
  {
   "cell_type": "code",
   "execution_count": 215,
   "metadata": {},
   "outputs": [
    {
     "data": {
      "text/plain": [
       "[<matplotlib.lines.Line2D at 0x207afe99e90>]"
      ]
     },
     "execution_count": 215,
     "metadata": {},
     "output_type": "execute_result"
    },
    {
     "data": {
      "image/png": "[encoded data removed]",
      "text/plain": [
       "<Figure size 640x480 with 1 Axes>"
      ]
     },
     "metadata": {},
     "output_type": "display_data"
    }
   ],
   "source": [
    "plt.plot(range(full_basis_size), [elem[0] for elem in states_q])"
   ]
  },
  {
   "cell_type": "code",
   "execution_count": 216,
   "metadata": {},
   "outputs": [
    {
     "name": "stderr",
     "output_type": "stream",
     "text": [
      "100%|██████████| 25/25 [00:00<00:00, 101.95it/s]\n",
      "100%|██████████| 25/25 [00:00<00:00, 93.40it/s]\n"
     ]
    }
   ],
   "source": [
    "dim = len(basis)\n",
    "dip_dip_matrix_1 = np.zeros((dim,dim))\n",
    "for i in tqdm(range(dim)):\n",
    "    for j in range(dim):\n",
    "        dip_dip_matrix_1[i][j] = dipole_dipole_matrix_elem(eigenvectors_1[i], eigenvectors_1[j], basis)\n",
    "dim = len(basis)\n",
    "dip_dip_matrix_2 = np.zeros((dim,dim))\n",
    "for i in tqdm(range(dim)):\n",
    "    for j in range(dim):\n",
    "        dip_dip_matrix_2[i][j] = dipole_dipole_matrix_elem(eigenvectors_2[i], eigenvectors_2[j], basis)\n"
   ]
  },
  {
   "cell_type": "code",
   "execution_count": 217,
   "metadata": {},
   "outputs": [],
   "source": [
    "np.save(\"dip_dip_matrix1.npy\", dip_dip_matrix_1)\n",
    "np.save(\"dip_dip_matrix2.npy\", dip_dip_matrix_2)\n",
    "dip_dip_matrix_1 = np.load(\"dip_dip_matrix1.npy\")\n",
    "dip_dip_matrix_2 = np.load(\"dip_dip_matrix2.npy\")\n",
    "        "
   ]
  },
  {
   "cell_type": "code",
   "execution_count": 218,
   "metadata": {},
   "outputs": [
    {
     "name": "stderr",
     "output_type": "stream",
     "text": [
      "100%|██████████| 625/625 [00:00<00:00, 1874.51it/s]\n"
     ]
    }
   ],
   "source": [
    "H_dd_unitless = np.zeros((full_basis_size,full_basis_size))\n",
    "for i in tqdm(range(full_basis_size)):\n",
    "    for j in range(full_basis_size):\n",
    "        s1 = math.floor(i/one_mol_basis_size)\n",
    "        s2 = int(i%one_mol_basis_size)\n",
    "        \n",
    "        s1_ = math.floor(j/one_mol_basis_size)\n",
    "        s2_ = int(j%one_mol_basis_size)\n",
    "        \n",
    "        H_dd_unitless[i][j] += dip_dip_matrix_1[s1_][s1]*dip_dip_matrix_2[s2_][s2]"
   ]
  },
  {
   "cell_type": "code",
   "execution_count": 219,
   "metadata": {},
   "outputs": [
    {
     "name": "stderr",
     "output_type": "stream",
     "text": [
      "100%|██████████| 625/625 [00:00<00:00, 2137.11it/s]\n"
     ]
    }
   ],
   "source": [
    "H_l1_unitless = np.zeros((full_basis_size,full_basis_size))\n",
    "for i in tqdm(range(full_basis_size)):\n",
    "    for j in range(full_basis_size):\n",
    "        s1 = math.floor(i/one_mol_basis_size)\n",
    "        s2 = int(i%one_mol_basis_size)\n",
    "        \n",
    "        s1_ = math.floor(j/one_mol_basis_size)\n",
    "        s2_ = int(j%one_mol_basis_size)\n",
    "        \n",
    "        H_l1_unitless[i][j] += H_l1_unitless[s1_][s1]*delta(s2_,s2)"
   ]
  },
  {
   "cell_type": "code",
   "execution_count": 220,
   "metadata": {},
   "outputs": [
    {
     "name": "stderr",
     "output_type": "stream",
     "text": [
      "100%|██████████| 625/625 [00:00<00:00, 2108.46it/s]\n"
     ]
    }
   ],
   "source": [
    "H_l2_unitless = np.zeros((full_basis_size,full_basis_size))\n",
    "for i in tqdm(range(full_basis_size)):\n",
    "    for j in range(full_basis_size):\n",
    "        s1 = math.floor(i/one_mol_basis_size)\n",
    "        s2 = int(i%one_mol_basis_size)\n",
    "        \n",
    "        s1_ = math.floor(j/one_mol_basis_size)\n",
    "        s2_ = int(j%one_mol_basis_size)\n",
    "        \n",
    "        H_l2_unitless[i][j] += H_l2_unitless[s1_][s1]*delta(s1_,s1)"
   ]
  },
  {
   "cell_type": "code",
   "execution_count": 221,
   "metadata": {},
   "outputs": [],
   "source": [
    "def H_l_t(t, w):\n",
    "    return math.cos(w*t)"
   ]
  },
  {
   "cell_type": "code",
   "execution_count": 222,
   "metadata": {},
   "outputs": [],
   "source": [
    "def C_part(t, Energies=eigenvalues_q):\n",
    "    Eq_minus_Ek = np.zeros((full_basis_size,full_basis_size))\n",
    "    for i in range(full_basis_size):\n",
    "        for j in range(full_basis_size):\n",
    "            Eq_minus_Ek[i][j] = (Energies[i]-Energies[j])\n",
    "    return -1j*(np.cos(Eq_minus_Ek*t) + 1j*np.sin(Eq_minus_Ek)*t)"
   ]
  },
  {
   "cell_type": "code",
   "execution_count": 223,
   "metadata": {},
   "outputs": [],
   "source": [
    "def norm(x):\n",
    "    sum = 0\n",
    "    for elem in x:\n",
    "        sum += abs(elem)*abs(elem)\n",
    "    return sum\n",
    "def solve_ivp_renormed(func, t_span, y0, t_eval, method):\n",
    "    sol = np.array([])\n",
    "    y0 = y0\n",
    "    sol = np.append(sol, y0)\n",
    "    for i, elem in enumerate(t_eval[1:]):\n",
    "        #print(i)\n",
    "        \n",
    "        # solving over a single timestep using python solver\n",
    "        print(i, len(t_eval[1:]))\n",
    "        pysol = solve_ivp(func, t_eval[i:i+2], y0, method = method)\n",
    "        \n",
    "        #extracting and renormalizing solution from python solver solution\n",
    "        y0 = pysol.y.T[-1]\n",
    "        y0 = y0 / math.sqrt(norm(y0))\n",
    "        \n",
    "        # adding this solution point to our solution\n",
    "        sol = np.vstack((sol, y0))\n",
    "        \n",
    "        #renormalization\n",
    "    print(\"done\")\n",
    "    return sol.T"
   ]
  },
  {
   "cell_type": "code",
   "execution_count": 228,
   "metadata": {},
   "outputs": [],
   "source": [
    "def rhs (t, psi):\n",
    "    #print(np.sum(C_part(t)))\n",
    "    system = np.multiply(C_part(t),H_dd_unitless + (H_l1_unitless+H_l2_unitless)*H_l_t(eigenvalues_q[0] - eigenvalues_q[1],t))\n",
    "    dpsi_dt = np.dot(system, psi)\n",
    "    return dpsi_dt"
   ]
  },
  {
   "cell_type": "code",
   "execution_count": 229,
   "metadata": {},
   "outputs": [
    {
     "name": "stdout",
     "output_type": "stream",
     "text": [
      "0 19\n",
      "1 19\n",
      "2 19\n",
      "3 19\n",
      "4 19\n",
      "5 19\n",
      "6 19\n",
      "7 19\n",
      "8 19\n",
      "9 19\n",
      "10 19\n",
      "11 19\n",
      "12 19\n",
      "13 19\n",
      "14 19\n",
      "15 19\n",
      "16 19\n",
      "17 19\n",
      "18 19\n",
      "done\n"
     ]
    }
   ],
   "source": [
    "# We start in the |00> state\n",
    "psi_0 = np.zeros(full_basis_size, dtype=np.complex_)\n",
    "psi_0[0] = 1+0j\n",
    "for i in range(1,full_basis_size):\n",
    "    psi_0[i] = 0 + 0j\n",
    "\n",
    "t0 = 0\n",
    "tfinal = 20\n",
    "ts = np.linspace(t0, tfinal, 20)\n",
    "\n",
    "sol = solve_ivp_renormed(rhs, [t0, tfinal], psi_0, t_eval=ts, method = 'DOP853')"
   ]
  },
  {
   "cell_type": "code",
   "execution_count": 236,
   "metadata": {},
   "outputs": [],
   "source": [
    "sortedsol = sorted(sol, key = lambda x: abs(x[19])**2)"
   ]
  },
  {
   "cell_type": "code",
   "execution_count": 246,
   "metadata": {},
   "outputs": [
    {
     "data": {
      "text/plain": [
       "array([ 0.        +0.00000000e+00j, -0.0004315 -2.04129205e-05j,\n",
       "       -0.00679209-6.09897931e-04j, -0.03169706+1.77205892e-03j,\n",
       "       -0.07633941+3.02560476e-03j, -0.08571931+5.49666317e-03j,\n",
       "       -0.01764895+4.93224050e-03j, -0.00122639+1.10252811e-02j,\n",
       "        0.00935743+5.60005343e-03j,  0.05097948-1.68627575e-03j,\n",
       "        0.03856377-3.53600557e-03j,  0.0265129 -1.29670274e-02j,\n",
       "       -0.00142784-3.24249800e-03j, -0.02995125+2.82882340e-04j,\n",
       "        0.02767281+1.26669708e-02j, -0.00187575-6.49055578e-03j,\n",
       "       -0.03944758-7.57603656e-03j, -0.03941966-7.95323066e-03j,\n",
       "       -0.0282338 +7.37786907e-03j, -0.00021409-2.86835998e-04j])"
      ]
     },
     "execution_count": 246,
     "metadata": {},
     "output_type": "execute_result"
    }
   ],
   "source": [
    "sortedsol[0]"
   ]
  },
  {
   "cell_type": "code",
   "execution_count": 242,
   "metadata": {},
   "outputs": [
    {
     "data": {
      "text/plain": [
       "(625, 20)"
      ]
     },
     "execution_count": 242,
     "metadata": {},
     "output_type": "execute_result"
    }
   ],
   "source": [
    "sol.shape"
   ]
  },
  {
   "cell_type": "code",
   "execution_count": 250,
   "metadata": {},
   "outputs": [
    {
     "data": {
      "text/plain": [
       "[<matplotlib.lines.Line2D at 0x207ba14f910>]"
      ]
     },
     "execution_count": 250,
     "metadata": {},
     "output_type": "execute_result"
    },
    {
     "data": {
      "image/png": "[encoded data removed]",
      "text/plain": [
       "<Figure size 640x480 with 1 Axes>"
      ]
     },
     "metadata": {},
     "output_type": "display_data"
    }
   ],
   "source": [
    "normedsol0 = [abs(elem)**2 for elem in sol[0]]\n",
    "normedsol1 = [abs(elem)**2 for elem in sol[1]]\n",
    "normedsol2 = [abs(elem)**2 for elem in sortedsol[0]]\n",
    "plt.plot(ts, normedsol0)\n",
    "plt.plot(ts, normedsol1)\n",
    "plt.plot(ts, normedsol2)"
   ]
  },
  {
   "cell_type": "code",
   "execution_count": 251,
   "metadata": {},
   "outputs": [],
   "source": [
    "sum = 0\n",
    "for elem in sortedsol:\n",
    "    sum += abs(elem[-1])**2"
   ]
  },
  {
   "cell_type": "code",
   "execution_count": null,
   "metadata": {},
   "outputs": [],
   "source": []
  }
 ],
 "metadata": {
  "kernelspec": {
   "display_name": "base",
   "language": "python",
   "name": "python3"
  },
  "language_info": {
   "codemirror_mode": {
    "name": "ipython",
    "version": 3
   },
   "file_extension": ".py",
   "mimetype": "text/x-python",
   "name": "python",
   "nbconvert_exporter": "python",
   "pygments_lexer": "ipython3",
   "version": "3.11.7"
  }
 },
 "nbformat": 4,
 "nbformat_minor": 2
}
