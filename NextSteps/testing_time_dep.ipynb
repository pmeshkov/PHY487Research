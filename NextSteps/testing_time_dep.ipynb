{
 "cells": [
  {
   "cell_type": "code",
   "execution_count": 11,
   "metadata": {},
   "outputs": [
    {
     "name": "stdout",
     "output_type": "stream",
     "text": [
      "H has dim 121\n"
     ]
    }
   ],
   "source": [
    "import scipy\n",
    "import math\n",
    "import numpy as np\n",
    "from diagonalize import State, delta, neg_1_pow, Interaction, Molecule\n",
    "import matplotlib.pyplot as plt\n",
    "from tqdm import tqdm\n",
    "\n",
    "int_wigner_arr = np.load(\"wigner3j_integer_N=10.npy\")\n",
    "halfint_wigner_arr = np.load(\"wigner3j_halfint_N=3.5.npy\")\n",
    "\n",
    "def T_int(n3, n1, m3, m1, n2, m2, N=10):\n",
    "    m1_ = m1 + N\n",
    "    m2_ = m2 + 2\n",
    "    m3_ = m3 + N\n",
    "    \n",
    "    return m2_ + 5*n2 + 15*m1_ + (15 + 30*N)*m3_ + (15+ 60*N + 60*N*N)*n1 + (15 + 75*N + 120*N*N + 60 *N*N*N)*n3\n",
    "\n",
    "def T_half_int(n3, n1, m3, m1, n2, m2, N = 7/2):\n",
    "    n3 = n3 - 0.5 \n",
    "    n1 = n1 - 0.5 \n",
    "    \n",
    "    n2 = n2\n",
    "    m2 = m2 + 2 \n",
    "    \n",
    "    m3 = m3 + N \n",
    "    m1 = m1 + N \n",
    "    \n",
    "    return int(m2     + 5 * n2         + 15 * m1               + (15+30*N)*m3  + (15+60*N+60*N*N)*n1     + (60*N*N*N + 90*N*N + 45*N + 7.5)*n3)\n",
    "    \n",
    "def wigner_3j(n1, n2, n3, m1, m2, m3):\n",
    "    if n1 == int(n1) and n2 == int(n2) and n3 == int(n3):\n",
    "        return int_wigner_arr[T_int(n3,n1,m3,m1,n2,m2)]\n",
    "    return halfint_wigner_arr[T_half_int(n3,n1,m3,m1,n2,m2)]\n",
    "\n",
    "h = scipy.constants.h\n",
    "muN = scipy.constants.physical_constants['nuclear magneton'][0]\n",
    "bohr = scipy.constants.physical_constants['Bohr radius'][0]\n",
    "eps0 = scipy.constants.epsilon_0\n",
    "c = scipy.constants.c\n",
    "DebyeSI = 3.33564e-30\n",
    "\n",
    "Na23Cs133 = {\"I1\":1.5,\n",
    "            \"I2\":3.5,\n",
    "            \"g1\":1.478,\n",
    "            \"g2\":0.738,\n",
    "            \"d0\":4.69*DebyeSI,\n",
    "            \"Brot\":0.058*c*100*h,\n",
    "            \"Drot\":0*h,\n",
    "            \"Q1\":-0.097e6*h,\n",
    "            \"Q2\":0.150e6*h,\n",
    "            \"C1\":14.2*h,\n",
    "            \"C2\":854.5*h,\n",
    "            \"C3\":105.6*h,\n",
    "            \"C4\":3941.8*h,\n",
    "            \"MuN\":0*muN,\n",
    "            \"Mu1\":1.478*muN,\n",
    "            \"Mu2\":0.738*muN,\n",
    "            \"a0\":0*h, #Not reported\n",
    "            \"a2\":0*h, #Not reported\n",
    "            \"Beta\":0}\n",
    "\n",
    "def rotational(state1: State, state2:State):\n",
    "    n, mn, m1, m2  = state1.get_state_vector()\n",
    "    n_, mn_, m1_, m2_  = state2.get_state_vector()\n",
    "\n",
    "    if delta(n, n_) and delta(mn, mn_) and delta(m1, m1_) and delta(m2, m2_):\n",
    "        return n*(n+1)\n",
    "    return 0\n",
    "\n",
    "def stark(state1: State, state2:State):\n",
    "    \n",
    "    n, mn, m1, m2  = state1.get_state_vector()\n",
    "    n_, mn_, m1_, m2_  = state2.get_state_vector()\n",
    "    \n",
    "    if not (delta(mn, mn_) and delta(m1, m1_) and delta(m2, m2_)):\n",
    "        return 0\n",
    "    \n",
    "    wig1 = wigner_3j(n, 1, n_, -mn, 0, mn)\n",
    "    if wig1 == 0:\n",
    "        return 0\n",
    "    \n",
    "    wig2 = wigner_3j(n, 1, n_, 0, 0, 0)\n",
    "    if wig2 == 0:\n",
    "        return 0\n",
    "    \n",
    "    other = -neg_1_pow(mn+m1+m2) * math.sqrt((2*n + 1) * (2*n_ + 1))\n",
    "    return wig1 * wig2 * other\n",
    "\n",
    "from scipy.constants import physical_constants\n",
    "from scipy.constants import c\n",
    "from scipy.constants import epsilon_0\n",
    "\n",
    "int_rotational = Interaction(Na23Cs133[\"Brot\"], rotational)\n",
    "int_stark = Interaction(Na23Cs133[\"d0\"], stark)\n",
    "NaCs = Molecule(range(11), 0, 0)\n",
    "NaCs.add_interaction(int_rotational)\n",
    "NaCs.add_changing_interaction(int_stark)\n",
    "\n",
    "NaCs.find_H_zero()\n",
    "NaCs.find_H_prime()\n",
    "\n",
    "E_range = np.linspace(0, 10, int(60)) * 1e5\n",
    "eigenvalues_and_eigenvectors_E_1 = NaCs.compute_eigenval_over_range([E_range[-1:]])\n",
    "eigenvalues_and_eigenvectors_E_2 = NaCs.compute_eigenval_over_range([E_range[-20:-19]])\n",
    "\n",
    "eigenvalues_1, eigenvectors_1 = eigenvalues_and_eigenvectors_E_1[0]\n",
    "eigenvalues_2, eigenvectors_2 = eigenvalues_and_eigenvectors_E_2[0]\n",
    "basis = NaCs.states\n",
    "\n",
    "def dipole_dipole_matrix_elem(evec1, evec2, basis):\n",
    "    if (len(evec1) != len(evec2) or len(evec1) != len(basis)):\n",
    "        raise('ArithmeticError')\n",
    "    else:\n",
    "        value = 0\n",
    "        for i, a in enumerate(evec1):\n",
    "            for j, b in enumerate(evec2):\n",
    "                value += a * b * stark(basis[i], basis[j])\n",
    "        return value\n",
    "\n"
   ]
  },
  {
   "cell_type": "code",
   "execution_count": 12,
   "metadata": {},
   "outputs": [
    {
     "name": "stdout",
     "output_type": "stream",
     "text": [
      "121 14641\n"
     ]
    }
   ],
   "source": [
    "N = 10\n",
    "one_mol_basis_size = (N+1)**2\n",
    "full_basis_size = (N+1)**4\n",
    "print(one_mol_basis_size, full_basis_size)"
   ]
  },
  {
   "cell_type": "code",
   "execution_count": 13,
   "metadata": {},
   "outputs": [],
   "source": [
    "eigenvalues_q = np.zeros(full_basis_size)\n",
    "states1 = np.zeros(full_basis_size)\n",
    "states2 = np.zeros(full_basis_size)\n",
    "for s1 in range(one_mol_basis_size):\n",
    "    for s2 in range(one_mol_basis_size):\n",
    "        q = s1*one_mol_basis_size + s2\n",
    "        eigenvalues_q[q] = eigenvalues_1[s1]+eigenvalues_2[s2]\n",
    "        states1[q] = s1\n",
    "        states2[q] = s2\n",
    "\n",
    "states_q = np.zeros((full_basis_size, 3))\n",
    "for i in range(full_basis_size):\n",
    "    states_q[i] = np.array([eigenvalues_q[i], states1[i], states2[i]])\n",
    "states_q = np.array(sorted(states_q, key = lambda x: x[0]))"
   ]
  },
  {
   "cell_type": "code",
   "execution_count": 14,
   "metadata": {},
   "outputs": [
    {
     "data": {
      "text/plain": [
       "[<matplotlib.lines.Line2D at 0x7e661f6f4390>]"
      ]
     },
     "execution_count": 14,
     "metadata": {},
     "output_type": "execute_result"
    },
    {
     "data": {
      "image/png": "[encoded data removed]",
      "text/plain": [
       "<Figure size 640x480 with 1 Axes>"
      ]
     },
     "metadata": {},
     "output_type": "display_data"
    }
   ],
   "source": [
    "plt.plot(range(full_basis_size), [elem[0]*1e-6/h for elem in states_q])"
   ]
  },
  {
   "cell_type": "code",
   "execution_count": 15,
   "metadata": {},
   "outputs": [],
   "source": [
    "#dim = len(basis)\n",
    "#dip_dip_matrix_1 = np.zeros((dim,dim))\n",
    "#for i in tqdm(range(dim)):\n",
    "#    for j in range(dim):\n",
    "#        dip_dip_matrix_1[i][j] = dipole_dipole_matrix_elem(eigenvectors_1[i], eigenvectors_1[j], basis)\n",
    "#dim = len(basis)\n",
    "#dip_dip_matrix_2 = np.zeros((dim,dim))\n",
    "#for i in tqdm(range(dim)):\n",
    "#    for j in range(dim):\n",
    "#        dip_dip_matrix_2[i][j] = dipole_dipole_matrix_elem(eigenvectors_2[i], eigenvectors_2[j], basis)\n"
   ]
  },
  {
   "cell_type": "code",
   "execution_count": 16,
   "metadata": {},
   "outputs": [],
   "source": [
    "#np.save(\"dip_dip_matrix1.npy\", dip_dip_matrix_1)\n",
    "#np.save(\"dip_dip_matrix2.npy\", dip_dip_matrix_2)\n",
    "dip_dip_matrix_1 = np.load(\"dip_dip_matrix1.npy\")\n",
    "dip_dip_matrix_2 = np.load(\"dip_dip_matrix2.npy\")\n",
    "        "
   ]
  },
  {
   "cell_type": "code",
   "execution_count": 17,
   "metadata": {},
   "outputs": [],
   "source": [
    "#H_dd_unitless = np.zeros((full_basis_size,full_basis_size))\n",
    "#for i in tqdm(range(full_basis_size)):\n",
    "#    for j in range(full_basis_size):\n",
    "#        s1 = math.floor(i/one_mol_basis_size)\n",
    "#        s2 = int(i%one_mol_basis_size)\n",
    "        \n",
    "#        s1_ = math.floor(j/one_mol_basis_size)\n",
    "#        s2_ = int(j%one_mol_basis_size)\n",
    "        \n",
    "        #print(s1, s2, s1_, s2_)\n",
    "#        H_dd_unitless[i][j] += dip_dip_matrix_1[s1_][s1]*dip_dip_matrix_2[s2_][s2]"
   ]
  },
  {
   "cell_type": "code",
   "execution_count": 18,
   "metadata": {},
   "outputs": [],
   "source": [
    "#np.save(\"H_dd_unitless.npy\", H_dd_unitless)\n",
    "H_dd_unitless = np.load(\"H_dd_unitless.npy\")"
   ]
  },
  {
   "cell_type": "code",
   "execution_count": null,
   "metadata": {},
   "outputs": [],
   "source": []
  }
 ],
 "metadata": {
  "kernelspec": {
   "display_name": "base",
   "language": "python",
   "name": "python3"
  },
  "language_info": {
   "codemirror_mode": {
    "name": "ipython",
    "version": 3
   },
   "file_extension": ".py",
   "mimetype": "text/x-python",
   "name": "python",
   "nbconvert_exporter": "python",
   "pygments_lexer": "ipython3",
   "version": "3.11.7"
  }
 },
 "nbformat": 4,
 "nbformat_minor": 2
}
